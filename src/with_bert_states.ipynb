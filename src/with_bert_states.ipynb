{
 "cells": [
  {
   "cell_type": "code",
   "execution_count": 11,
   "metadata": {},
   "outputs": [],
   "source": [
    "# Using Bert States obtained from Google Colab"
   ]
  },
  {
   "cell_type": "code",
   "execution_count": 1,
   "metadata": {},
   "outputs": [],
   "source": [
    "import pandas as pd\n",
    "import pickle\n",
    "from sklearn.model_selection import train_test_split\n",
    "import regression_paper\n",
    "import models"
   ]
  },
  {
   "cell_type": "code",
   "execution_count": 2,
   "metadata": {},
   "outputs": [],
   "source": [
    "reg_obj = regression_paper.Gutenberg_Emotion()\n",
    "df = reg_obj.get_corpus(regression_paper.EMOBANK_PATH)"
   ]
  },
  {
   "cell_type": "code",
   "execution_count": 3,
   "metadata": {},
   "outputs": [],
   "source": [
    "features = None\n",
    "with open('bert_states_10000.pkl', 'rb') as f:\n",
    "  features = pickle.load(f)"
   ]
  },
  {
   "cell_type": "code",
   "execution_count": 4,
   "metadata": {},
   "outputs": [
    {
     "name": "stdout",
     "output_type": "stream",
     "text": [
      "100 (100, 768)\n"
     ]
    }
   ],
   "source": [
    "print(len(features), features[0].shape)"
   ]
  },
  {
   "cell_type": "code",
   "execution_count": 5,
   "metadata": {},
   "outputs": [],
   "source": [
    "# Each of the 100 vectors further have 100 vectors \n",
    "# (as 100 vectors were processed in a group instead of 1000)\n",
    "# Due to memory constraints"
   ]
  },
  {
   "cell_type": "code",
   "execution_count": 6,
   "metadata": {},
   "outputs": [
    {
     "name": "stdout",
     "output_type": "stream",
     "text": [
      "10000 768\n"
     ]
    }
   ],
   "source": [
    "# In 1-D format\n",
    "all_features = list()\n",
    "for i in range(100):\n",
    "  for j in range(100):\n",
    "    if i > 0 and j==100:\n",
    "      continue\n",
    "    else:\n",
    "      all_features.append(features[i][j])\n",
    "features = all_features\n",
    "\n",
    "print(len(features), len(features[0]))"
   ]
  },
  {
   "cell_type": "code",
   "execution_count": 9,
   "metadata": {},
   "outputs": [
    {
     "name": "stdout",
     "output_type": "stream",
     "text": [
      "9000 1000\n"
     ]
    }
   ],
   "source": [
    "lt = \"A\"\n",
    "labels = df[lt][:10000]\n",
    "\n",
    "# labels = [df[lt].tolist()[i+1:i+100] for i in range(0, 10000, 100)]\n",
    "# labels[0].insert(0, df[lt].tolist()[0])\n",
    "\n",
    "# # Flatten again\n",
    "# labels = sum(labels, [])\n",
    "# print(len(labels))\n",
    "\n",
    "train_features, test_features, train_labels, test_labels = train_test_split(features, labels, test_size=0.1)\n",
    "print(len(train_features), len(test_features))"
   ]
  },
  {
   "cell_type": "code",
   "execution_count": 10,
   "metadata": {},
   "outputs": [
    {
     "name": "stdout",
     "output_type": "stream",
     "text": [
      "{'model': Pipeline(memory=None,\n",
      "         steps=[('standardscaler',\n",
      "                 StandardScaler(copy=True, with_mean=True, with_std=True)),\n",
      "                ('svr',\n",
      "                 SVR(C=0.8, cache_size=200, coef0=0.0, degree=3, epsilon=0.2,\n",
      "                     gamma='scale', kernel='rbf', max_iter=-1, shrinking=True,\n",
      "                     tol=0.001, verbose=False))],\n",
      "         verbose=False), 'score_train': 0.6197145886598122, 'score_val': 0.3351597215142541, 'rmse_val': 0.2174676998428308, 'rmse_train': 0.15946283769480094}\n"
     ]
    }
   ],
   "source": [
    "model_obj = models.Models()\n",
    "svr = model_obj.svr(train_features, train_labels, test_features, test_labels)\n",
    "print(svr)"
   ]
  },
  {
   "cell_type": "code",
   "execution_count": 11,
   "metadata": {},
   "outputs": [],
   "source": [
    "# For the book\n",
    "book_info = reg_obj.get_book(11)\n",
    "book = book_info[\"text\"]\n",
    "train_df = pd.DataFrame(reg_obj.book_formatting(book), columns=[\"text\"])\n",
    "\n",
    "train_df = reg_obj.split_text_read_time(train_df, \n",
    "                                    reading_time=10, \n",
    "                                    in_seconds=True)\n",
    "\n",
    "train_df.to_csv(\"11_train.csv\")"
   ]
  },
  {
   "cell_type": "code",
   "execution_count": 12,
   "metadata": {},
   "outputs": [],
   "source": [
    "with open('book_11_600_2.pkl', 'rb') as f:\n",
    "  book_features = pickle.load(f)"
   ]
  },
  {
   "cell_type": "code",
   "execution_count": 14,
   "metadata": {
    "scrolled": true
   },
   "outputs": [
    {
     "name": "stdout",
     "output_type": "stream",
     "text": [
      "560 768\n"
     ]
    }
   ],
   "source": [
    "# In 1-D format\n",
    "book_all_features = list()\n",
    "for i in range(6):\n",
    "  for j in range(100):\n",
    "    if i == 5 and j == 60:\n",
    "        break\n",
    "    else:\n",
    "      book_all_features.append(book_features[i][j])\n",
    "book_features = book_all_features\n",
    "\n",
    "print(len(book_features), len(book_features[0]))"
   ]
  },
  {
   "cell_type": "code",
   "execution_count": 15,
   "metadata": {},
   "outputs": [],
   "source": [
    "# # Remove 100, 200, etc.\n",
    "# sentences = [train_df[\"text\"].tolist()[i+1:i+100] for i in range(0, 600, 100)]\n",
    "# sentences[0].insert(0, train_df[\"text\"].tolist()[0])\n",
    "\n",
    "# # Flatten again\n",
    "# sentences = sum(sentences, [])\n",
    "# print(len(sentences))"
   ]
  },
  {
   "cell_type": "code",
   "execution_count": 16,
   "metadata": {},
   "outputs": [
    {
     "data": {
      "text/html": [
       "<div>\n",
       "<style scoped>\n",
       "    .dataframe tbody tr th:only-of-type {\n",
       "        vertical-align: middle;\n",
       "    }\n",
       "\n",
       "    .dataframe tbody tr th {\n",
       "        vertical-align: top;\n",
       "    }\n",
       "\n",
       "    .dataframe thead th {\n",
       "        text-align: right;\n",
       "    }\n",
       "</style>\n",
       "<table border=\"1\" class=\"dataframe\">\n",
       "  <thead>\n",
       "    <tr style=\"text-align: right;\">\n",
       "      <th></th>\n",
       "      <th>text</th>\n",
       "    </tr>\n",
       "  </thead>\n",
       "  <tbody>\n",
       "    <tr>\n",
       "      <th>0</th>\n",
       "      <td>Alice’s Adventures in Wonderland\\n\\nby Lewis C...</td>\n",
       "    </tr>\n",
       "    <tr>\n",
       "      <th>1</th>\n",
       "      <td>The Rabbit Sends in a Little Bill\\n CHAPTER V....</td>\n",
       "    </tr>\n",
       "    <tr>\n",
       "      <th>2</th>\n",
       "      <td>The Mock Turtle’s Story\\n CHAPTER X. The Lobst...</td>\n",
       "    </tr>\n",
       "    <tr>\n",
       "      <th>3</th>\n",
       "      <td>There was nothing so _very_ remarkable in that...</td>\n",
       "    </tr>\n",
       "    <tr>\n",
       "      <th>4</th>\n",
       "      <td>I shall be late!” (when she thought it over af...</td>\n",
       "    </tr>\n",
       "    <tr>\n",
       "      <th>...</th>\n",
       "      <td>...</td>\n",
       "    </tr>\n",
       "    <tr>\n",
       "      <th>555</th>\n",
       "      <td>But her sister sat still just as she left her,...</td>\n",
       "    </tr>\n",
       "    <tr>\n",
       "      <th>556</th>\n",
       "      <td>The long grass rustled at her feet as the Whit...</td>\n",
       "    </tr>\n",
       "    <tr>\n",
       "      <th>557</th>\n",
       "      <td>So she sat on, with closed eyes, and half beli...</td>\n",
       "    </tr>\n",
       "    <tr>\n",
       "      <th>558</th>\n",
       "      <td>Lastly, she pictured to herself how this same ...</td>\n",
       "    </tr>\n",
       "    <tr>\n",
       "      <th>559</th>\n",
       "      <td>THE END</td>\n",
       "    </tr>\n",
       "  </tbody>\n",
       "</table>\n",
       "<p>560 rows × 1 columns</p>\n",
       "</div>"
      ],
      "text/plain": [
       "                                                  text\n",
       "0    Alice’s Adventures in Wonderland\\n\\nby Lewis C...\n",
       "1    The Rabbit Sends in a Little Bill\\n CHAPTER V....\n",
       "2    The Mock Turtle’s Story\\n CHAPTER X. The Lobst...\n",
       "3    There was nothing so _very_ remarkable in that...\n",
       "4    I shall be late!” (when she thought it over af...\n",
       "..                                                 ...\n",
       "555  But her sister sat still just as she left her,...\n",
       "556  The long grass rustled at her feet as the Whit...\n",
       "557  So she sat on, with closed eyes, and half beli...\n",
       "558  Lastly, she pictured to herself how this same ...\n",
       "559                                            THE END\n",
       "\n",
       "[560 rows x 1 columns]"
      ]
     },
     "execution_count": 16,
     "metadata": {},
     "output_type": "execute_result"
    }
   ],
   "source": [
    "# train_df = pd.DataFrame(sentences, columns=[\"text\"])\n",
    "train_df"
   ]
  },
  {
   "cell_type": "code",
   "execution_count": 17,
   "metadata": {},
   "outputs": [
    {
     "name": "stdout",
     "output_type": "stream",
     "text": [
      "                0\n",
      "count  560.000000\n",
      "mean     3.150582\n",
      "std      0.144414\n",
      "min      2.792654\n",
      "25%      3.048765\n",
      "50%      3.119227\n",
      "75%      3.231957\n",
      "max      3.919521\n"
     ]
    }
   ],
   "source": [
    "book_predict = svr[\"model\"].predict(book_features)\n",
    "book_predict_df = pd.DataFrame(book_predict)\n",
    "print(book_predict_df.describe())"
   ]
  },
  {
   "cell_type": "code",
   "execution_count": 254,
   "metadata": {},
   "outputs": [],
   "source": [
    "book_predict_df.to_csv(\"1777_D.csv\")"
   ]
  },
  {
   "cell_type": "code",
   "execution_count": null,
   "metadata": {},
   "outputs": [],
   "source": []
  }
 ],
 "metadata": {
  "kernelspec": {
   "display_name": "Python 3",
   "language": "python",
   "name": "python3"
  },
  "language_info": {
   "codemirror_mode": {
    "name": "ipython",
    "version": 3
   },
   "file_extension": ".py",
   "mimetype": "text/x-python",
   "name": "python",
   "nbconvert_exporter": "python",
   "pygments_lexer": "ipython3",
   "version": "3.6.10"
  }
 },
 "nbformat": 4,
 "nbformat_minor": 4
}
