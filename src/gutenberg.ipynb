{
 "cells": [
  {
   "cell_type": "code",
   "execution_count": 1,
   "metadata": {},
   "outputs": [],
   "source": [
    "import models\n",
    "import regression_paper\n",
    "import clean_text_gutentag\n",
    "\n",
    "from nltk.tokenize import sent_tokenize"
   ]
  },
  {
   "cell_type": "code",
   "execution_count": 2,
   "metadata": {},
   "outputs": [],
   "source": [
    "# Importing a book from downloaded Gutenberg collection\n",
    "reg_paper_obj = regression_paper.Gutenberg_Emotion()\n",
    "book = reg_paper_obj.get_book(1777)[\"text\"]"
   ]
  },
  {
   "cell_type": "code",
   "execution_count": 3,
   "metadata": {},
   "outputs": [
    {
     "data": {
      "text/plain": [
       "\"\\n\\n\\n\\n\\n1595\\n\\nTHE TRAGEDY OF ROMEO AND JULIET\\n\\nby William Shakespeare\\n\\n\\n\\nDramatis Personae\\n\\n  Chorus.\\n\\n  Escalus, Prince of Verona.\\n  Paris, a young Count, kinsman to the Prince.\\n  Montague, heads of two houses at variance with each other.\\n  Capulet, heads of two houses at variance with each other.\\n  An old Man, of the Capulet family.\\n  Romeo, son to Montague.\\n  Tybalt, nephew to Lady Capulet.\\n  Mercutio, kinsman to the Prince and friend to Romeo.\\n  Benvolio, nephew to Montague, and friend to Romeo\\n  Tybalt, nephew to Lady Capulet.\\n  Friar Laurence, Franciscan.\\n  Friar John, Franciscan.\\n  Balthasar, servant to Romeo.\\n  Abram, servant to Montague.\\n  Sampson, servant to Capulet.\\n  Gregory, servant to Capulet.\\n  Peter, servant to Juliet's nurse.\\n  An Apothecary.\\n  Three Musicians.\\n  An Officer.\\n\\n  Lady Montague, wife to Montague.\\n  Lady Capulet, wife to Capulet.\\n  Juliet, daughter to Capulet.\\n  Nurse to Juliet.\\n\\n  Citizens of Verona; Gentlemen and Gentlewomen of both houses;\\n    Maskers, Tor\""
      ]
     },
     "execution_count": 3,
     "metadata": {},
     "output_type": "execute_result"
    }
   ],
   "source": [
    "# Some inital text in the book\n",
    "book[:1000]"
   ]
  },
  {
   "cell_type": "code",
   "execution_count": 4,
   "metadata": {},
   "outputs": [],
   "source": [
    "def basic_formatting(text):\n",
    "    text = clean_text_gutentag.clean_text(text)\n",
    "    text = sent_tokenize(text)    \n",
    "    return text"
   ]
  },
  {
   "cell_type": "code",
   "execution_count": 5,
   "metadata": {},
   "outputs": [
    {
     "name": "stdout",
     "output_type": "stream",
     "text": [
      "No. of sentences: 3334\n"
     ]
    }
   ],
   "source": [
    "sentences = basic_formatting(book)\n",
    "print(\"No. of sentences: {}\".format(len(sentences)))"
   ]
  },
  {
   "cell_type": "code",
   "execution_count": 6,
   "metadata": {},
   "outputs": [],
   "source": [
    "# Model object\n",
    "model = models.Models()"
   ]
  },
  {
   "cell_type": "code",
   "execution_count": 7,
   "metadata": {},
   "outputs": [
    {
     "name": "stderr",
     "output_type": "stream",
     "text": [
      "/usr/local/lib/python3.6/dist-packages/gensim/models/doc2vec.py:574: UserWarning: The parameter `size` is deprecated, will be removed in 4.0.0, use `vector_size` instead.\n",
      "  warnings.warn(\"The parameter `size` is deprecated, will be removed in 4.0.0, use `vector_size` instead.\")\n"
     ]
    }
   ],
   "source": [
    "# Model pipeline\n",
    "df_train, df_val, df_test = model.emobank_split()\n",
    "X_train, y_train, X_val, y_val = model.emobank_preprocess(df_train, df_val)\n",
    "model_dm, model_dbow = model.gensim_build_vocab(X_train, X_val=X_val)\n",
    "\n",
    "model.gensim_train(model_dm, model_dbow, X_train)\n",
    "train_vecs = model.model_vectors(model_dm, model_dbow, X_train)\n",
    "\n",
    "model.gensim_train(model_dm, model_dbow, X_val)\n",
    "val_vecs = model.model_vectors(model_dm, model_dbow, X_val)\n",
    "\n",
    "svr_model = model.svr(train_vecs, y_train, val_vecs, y_val)"
   ]
  },
  {
   "cell_type": "code",
   "execution_count": 8,
   "metadata": {},
   "outputs": [
    {
     "data": {
      "text/plain": [
       "dict_keys(['model', 'score_train', 'score_val', 'rmse_val', 'rmse_train'])"
      ]
     },
     "execution_count": 8,
     "metadata": {},
     "output_type": "execute_result"
    }
   ],
   "source": [
    "# model.svr() returns JSON file\n",
    "# Let's see what is the JSON structure\n",
    "svr_model.keys()"
   ]
  },
  {
   "cell_type": "code",
   "execution_count": 9,
   "metadata": {},
   "outputs": [],
   "source": [
    "# Info on each method\n",
    "# help(model.svr)"
   ]
  },
  {
   "cell_type": "code",
   "execution_count": 10,
   "metadata": {},
   "outputs": [],
   "source": [
    "# print(svr_model)"
   ]
  },
  {
   "cell_type": "code",
   "execution_count": 11,
   "metadata": {},
   "outputs": [
    {
     "name": "stderr",
     "output_type": "stream",
     "text": [
      "/usr/local/lib/python3.6/dist-packages/gensim/models/doc2vec.py:574: UserWarning: The parameter `size` is deprecated, will be removed in 4.0.0, use `vector_size` instead.\n",
      "  warnings.warn(\"The parameter `size` is deprecated, will be removed in 4.0.0, use `vector_size` instead.\")\n"
     ]
    }
   ],
   "source": [
    "# Train our book to get the word vectors\n",
    "X_book = model.text_preprocess(sentences)\n",
    "model_dm, model_dbow = model.gensim_build_vocab(X_book)"
   ]
  },
  {
   "cell_type": "code",
   "execution_count": 12,
   "metadata": {},
   "outputs": [],
   "source": [
    "model.gensim_train(model_dm, model_dbow, X_book)\n",
    "book_vecs = model.model_vectors(model_dm, model_dbow, X_book)"
   ]
  },
  {
   "cell_type": "code",
   "execution_count": 13,
   "metadata": {},
   "outputs": [],
   "source": [
    "# Predicting using our trained svr_model\n",
    "book_predict = svr_model[\"model\"].predict(book_vecs)"
   ]
  },
  {
   "cell_type": "code",
   "execution_count": 14,
   "metadata": {},
   "outputs": [
    {
     "data": {
      "text/plain": [
       "3334"
      ]
     },
     "execution_count": 14,
     "metadata": {},
     "output_type": "execute_result"
    }
   ],
   "source": [
    "len(book_predict)"
   ]
  },
  {
   "cell_type": "code",
   "execution_count": 15,
   "metadata": {},
   "outputs": [
    {
     "name": "stdout",
     "output_type": "stream",
     "text": [
      "SENTENCE: Nay, gentlemen, prepare not to be gone;\n",
      "    We have a trifling foolish banquet towards. \n",
      "\n",
      "\n",
      " HAS VALENCE: 3.0490166442353015\n"
     ]
    }
   ],
   "source": [
    "# Checking for sentence N\n",
    "N = 800\n",
    "print(\"SENTENCE: {} \\n\\n\\n HAS VALENCE: {}\".format(sentences[N], book_predict[N]))"
   ]
  },
  {
   "cell_type": "code",
   "execution_count": 16,
   "metadata": {},
   "outputs": [
    {
     "data": {
      "text/html": [
       "<div>\n",
       "<style scoped>\n",
       "    .dataframe tbody tr th:only-of-type {\n",
       "        vertical-align: middle;\n",
       "    }\n",
       "\n",
       "    .dataframe tbody tr th {\n",
       "        vertical-align: top;\n",
       "    }\n",
       "\n",
       "    .dataframe thead th {\n",
       "        text-align: right;\n",
       "    }\n",
       "</style>\n",
       "<table border=\"1\" class=\"dataframe\">\n",
       "  <thead>\n",
       "    <tr style=\"text-align: right;\">\n",
       "      <th></th>\n",
       "      <th>0</th>\n",
       "    </tr>\n",
       "  </thead>\n",
       "  <tbody>\n",
       "    <tr>\n",
       "      <th>count</th>\n",
       "      <td>3334.000000</td>\n",
       "    </tr>\n",
       "    <tr>\n",
       "      <th>mean</th>\n",
       "      <td>3.040078</td>\n",
       "    </tr>\n",
       "    <tr>\n",
       "      <th>std</th>\n",
       "      <td>0.093415</td>\n",
       "    </tr>\n",
       "    <tr>\n",
       "      <th>min</th>\n",
       "      <td>2.670226</td>\n",
       "    </tr>\n",
       "    <tr>\n",
       "      <th>25%</th>\n",
       "      <td>2.988049</td>\n",
       "    </tr>\n",
       "    <tr>\n",
       "      <th>50%</th>\n",
       "      <td>3.039004</td>\n",
       "    </tr>\n",
       "    <tr>\n",
       "      <th>75%</th>\n",
       "      <td>3.100550</td>\n",
       "    </tr>\n",
       "    <tr>\n",
       "      <th>max</th>\n",
       "      <td>3.341538</td>\n",
       "    </tr>\n",
       "  </tbody>\n",
       "</table>\n",
       "</div>"
      ],
      "text/plain": [
       "                 0\n",
       "count  3334.000000\n",
       "mean      3.040078\n",
       "std       0.093415\n",
       "min       2.670226\n",
       "25%       2.988049\n",
       "50%       3.039004\n",
       "75%       3.100550\n",
       "max       3.341538"
      ]
     },
     "execution_count": 16,
     "metadata": {},
     "output_type": "execute_result"
    }
   ],
   "source": [
    "import pandas\n",
    "\n",
    "book_predict_df = pandas.DataFrame(book_predict)\n",
    "book_predict_df.describe()"
   ]
  },
  {
   "cell_type": "code",
   "execution_count": 19,
   "metadata": {},
   "outputs": [
    {
     "data": {
      "text/plain": [
       "['1595\\n\\nTHE TRAGEDY OF ROMEO AND JULIET\\n\\nby William Shakespeare\\n\\n\\n\\nDramatis Personae\\n\\n  Chorus.',\n",
       " 'Escalus, Prince of Verona.',\n",
       " 'Paris, a young Count, kinsman to the Prince.',\n",
       " 'Montague, heads of two houses at variance with each other.',\n",
       " 'Capulet, heads of two houses at variance with each other.',\n",
       " 'An old Man, of the Capulet family.',\n",
       " 'Romeo, son to Montague.',\n",
       " 'Tybalt, nephew to Lady Capulet.',\n",
       " 'Mercutio, kinsman to the Prince and friend to Romeo.',\n",
       " 'Benvolio, nephew to Montague, and friend to Romeo\\n  Tybalt, nephew to Lady Capulet.',\n",
       " 'Friar Laurence, Franciscan.',\n",
       " 'Friar John, Franciscan.',\n",
       " 'Balthasar, servant to Romeo.',\n",
       " 'Abram, servant to Montague.',\n",
       " 'Sampson, servant to Capulet.',\n",
       " 'Gregory, servant to Capulet.',\n",
       " \"Peter, servant to Juliet's nurse.\",\n",
       " 'An Apothecary.',\n",
       " 'Three Musicians.',\n",
       " 'An Officer.',\n",
       " 'Lady Montague, wife to Montague.',\n",
       " 'Lady Capulet, wife to Capulet.',\n",
       " 'Juliet, daughter to Capulet.',\n",
       " 'Nurse to Juliet.',\n",
       " 'Citizens of Verona; Gentlemen and Gentlewomen of both houses;\\n    Maskers, Torchbearers, Pages, Guards, Watchmen, Servants, and\\n    Attendants.',\n",
       " 'SCENE.--Verona; Mantua.',\n",
       " 'THE PROLOGUE\\n\\n                        Enter Chorus.',\n",
       " 'Chor.',\n",
       " 'Two households, both alike in dignity,\\n    In fair Verona, where we lay our scene,\\n    From ancient grudge break to new mutiny,\\n    Where civil blood makes civil hands unclean.',\n",
       " \"From forth the fatal loins of these two foes\\n    A pair of star-cross'd lovers take their life;\\n    Whose misadventur'd piteous overthrows\\n    Doth with their death bury their parents' strife.\",\n",
       " \"The fearful passage of their death-mark'd love,\\n    And the continuance of their parents' rage,\\n    Which, but their children's end, naught could remove,\\n    Is now the two hours' traffic of our stage;\\n    The which if you with patient ears attend,\\n    What here shall miss, our toil shall strive to mend.\",\n",
       " '[Exit.]',\n",
       " 'ACT I.',\n",
       " 'Scene I.\\nVerona.',\n",
       " 'A public place.',\n",
       " 'Enter Sampson and Gregory (with swords and bucklers) of the house\\nof Capulet.',\n",
       " 'Samp.',\n",
       " \"Gregory, on my word, we'll not carry coals.\",\n",
       " 'Greg.',\n",
       " 'No, for then we should be colliers.',\n",
       " 'Samp.',\n",
       " \"I mean, an we be in choler, we'll draw.\",\n",
       " 'Greg.',\n",
       " 'Ay, while you live, draw your neck out of collar.',\n",
       " 'Samp.',\n",
       " 'I strike quickly, being moved.',\n",
       " 'Greg.',\n",
       " 'But thou art not quickly moved to strike.',\n",
       " 'Samp.',\n",
       " 'A dog of the house of Montague moves me.',\n",
       " 'Greg.',\n",
       " 'To move is to stir, and to be valiant is to stand.',\n",
       " \"Therefore, if thou art moved, thou runn'st away.\",\n",
       " 'Samp.',\n",
       " 'A dog of that house shall move me to stand.',\n",
       " \"I will take\\nthe\\n    wall of any man or maid of Montague's.\",\n",
       " 'Greg.',\n",
       " 'That shows thee a weak slave; for the weakest goes to the\\n    wall.',\n",
       " 'Samp.',\n",
       " \"'Tis true; and therefore women, being the weaker vessels,\\nare\\n    ever thrust to the wall.\",\n",
       " \"Therefore I will push Montague's men\\n    from the wall and thrust his maids to the wall.\",\n",
       " 'Greg.',\n",
       " 'The quarrel is between our masters and us their men.',\n",
       " 'Samp.',\n",
       " \"'Tis all one.\",\n",
       " 'I will show myself a tyrant.',\n",
       " 'When I have\\nfought\\n    with the men, I will be cruel with the maids- I will cut off\\n    their heads.',\n",
       " 'Greg.',\n",
       " 'The heads of the maids?',\n",
       " 'Samp.',\n",
       " 'Ay, the heads of the maids, or their maidenheads.',\n",
       " 'Take it in what sense thou wilt.',\n",
       " 'Greg.',\n",
       " 'They must take it in sense that feel it.',\n",
       " 'Samp.',\n",
       " \"Me they shall feel while I am able to stand; and 'tis\\nknown I\\n    am a pretty piece of flesh.\",\n",
       " 'Greg.',\n",
       " \"'Tis well thou art not fish; if thou hadst, thou hadst\\nbeen\\n    poor-John.\",\n",
       " 'Draw thy tool!',\n",
       " 'Here comes two of the house of\\n    Montagues.',\n",
       " 'Enter two other Servingmen [Abram and Balthasar].',\n",
       " 'Samp.',\n",
       " 'My naked weapon is out.',\n",
       " 'Quarrel!',\n",
       " 'I will back thee.',\n",
       " 'Greg.',\n",
       " 'How?',\n",
       " 'turn thy back and run?',\n",
       " 'Samp.',\n",
       " 'Fear me not.',\n",
       " 'Greg.',\n",
       " 'No, marry.',\n",
       " 'I fear thee!',\n",
       " 'Samp.',\n",
       " 'Let us take the law of our sides; let them begin.',\n",
       " 'Greg.',\n",
       " 'I will frown as I pass by, and let them take it as they\\nlist.',\n",
       " 'Samp.',\n",
       " 'Nay, as they dare.',\n",
       " 'I will bite my thumb at them; which is\\n    disgrace to them, if they bear it.']"
      ]
     },
     "execution_count": 19,
     "metadata": {},
     "output_type": "execute_result"
    }
   ],
   "source": [
    "sentences[0:100]"
   ]
  },
  {
   "cell_type": "code",
   "execution_count": null,
   "metadata": {},
   "outputs": [],
   "source": []
  }
 ],
 "metadata": {
  "kernelspec": {
   "display_name": "Python 3",
   "language": "python",
   "name": "python3"
  },
  "language_info": {
   "codemirror_mode": {
    "name": "ipython",
    "version": 3
   },
   "file_extension": ".py",
   "mimetype": "text/x-python",
   "name": "python",
   "nbconvert_exporter": "python",
   "pygments_lexer": "ipython3",
   "version": "3.6.10"
  }
 },
 "nbformat": 4,
 "nbformat_minor": 4
}
