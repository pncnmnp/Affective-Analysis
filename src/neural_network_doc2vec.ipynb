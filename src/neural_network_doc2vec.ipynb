{
 "cells": [
  {
   "cell_type": "code",
   "execution_count": 1,
   "metadata": {},
   "outputs": [],
   "source": [
    "import gensim\n",
    "import pandas as pd\n",
    "import numpy as np\n",
    "\n",
    "from math import sqrt\n",
    "\n",
    "from matplotlib import pyplot as plt\n",
    "\n",
    "from sklearn.neural_network import MLPRegressor\n",
    "from sklearn import metrics\n",
    "\n",
    "from sklearn.decomposition import PCA\n",
    "\n",
    "from sklearn.linear_model import LinearRegression\n",
    "\n",
    "from sklearn.svm import SVR\n",
    "from sklearn.pipeline import make_pipeline\n",
    "from sklearn.preprocessing import StandardScaler"
   ]
  },
  {
   "cell_type": "code",
   "execution_count": 2,
   "metadata": {},
   "outputs": [
    {
     "data": {
      "text/html": [
       "<div>\n",
       "<style scoped>\n",
       "    .dataframe tbody tr th:only-of-type {\n",
       "        vertical-align: middle;\n",
       "    }\n",
       "\n",
       "    .dataframe tbody tr th {\n",
       "        vertical-align: top;\n",
       "    }\n",
       "\n",
       "    .dataframe thead th {\n",
       "        text-align: right;\n",
       "    }\n",
       "</style>\n",
       "<table border=\"1\" class=\"dataframe\">\n",
       "  <thead>\n",
       "    <tr style=\"text-align: right;\">\n",
       "      <th></th>\n",
       "      <th>V</th>\n",
       "      <th>A</th>\n",
       "      <th>D</th>\n",
       "    </tr>\n",
       "  </thead>\n",
       "  <tbody>\n",
       "    <tr>\n",
       "      <th>count</th>\n",
       "      <td>10062.000000</td>\n",
       "      <td>10062.000000</td>\n",
       "      <td>10062.000000</td>\n",
       "    </tr>\n",
       "    <tr>\n",
       "      <th>mean</th>\n",
       "      <td>2.976690</td>\n",
       "      <td>3.041785</td>\n",
       "      <td>3.062763</td>\n",
       "    </tr>\n",
       "    <tr>\n",
       "      <th>std</th>\n",
       "      <td>0.348715</td>\n",
       "      <td>0.259541</td>\n",
       "      <td>0.209675</td>\n",
       "    </tr>\n",
       "    <tr>\n",
       "      <th>min</th>\n",
       "      <td>1.200000</td>\n",
       "      <td>1.800000</td>\n",
       "      <td>1.780000</td>\n",
       "    </tr>\n",
       "    <tr>\n",
       "      <th>25%</th>\n",
       "      <td>2.800000</td>\n",
       "      <td>2.890000</td>\n",
       "      <td>3.000000</td>\n",
       "    </tr>\n",
       "    <tr>\n",
       "      <th>50%</th>\n",
       "      <td>3.000000</td>\n",
       "      <td>3.000000</td>\n",
       "      <td>3.090000</td>\n",
       "    </tr>\n",
       "    <tr>\n",
       "      <th>75%</th>\n",
       "      <td>3.120000</td>\n",
       "      <td>3.200000</td>\n",
       "      <td>3.200000</td>\n",
       "    </tr>\n",
       "    <tr>\n",
       "      <th>max</th>\n",
       "      <td>4.600000</td>\n",
       "      <td>4.400000</td>\n",
       "      <td>4.200000</td>\n",
       "    </tr>\n",
       "  </tbody>\n",
       "</table>\n",
       "</div>"
      ],
      "text/plain": [
       "                  V             A             D\n",
       "count  10062.000000  10062.000000  10062.000000\n",
       "mean       2.976690      3.041785      3.062763\n",
       "std        0.348715      0.259541      0.209675\n",
       "min        1.200000      1.800000      1.780000\n",
       "25%        2.800000      2.890000      3.000000\n",
       "50%        3.000000      3.000000      3.090000\n",
       "75%        3.120000      3.200000      3.200000\n",
       "max        4.600000      4.400000      4.200000"
      ]
     },
     "execution_count": 2,
     "metadata": {},
     "output_type": "execute_result"
    }
   ],
   "source": [
    "EMOBANK_CORPUS = \"../corpus/emobank.csv\"\n",
    "df = pd.read_csv(EMOBANK_CORPUS)\n",
    "df.describe()"
   ]
  },
  {
   "cell_type": "code",
   "execution_count": 3,
   "metadata": {},
   "outputs": [
    {
     "data": {
      "text/html": [
       "<div>\n",
       "<style scoped>\n",
       "    .dataframe tbody tr th:only-of-type {\n",
       "        vertical-align: middle;\n",
       "    }\n",
       "\n",
       "    .dataframe tbody tr th {\n",
       "        vertical-align: top;\n",
       "    }\n",
       "\n",
       "    .dataframe thead th {\n",
       "        text-align: right;\n",
       "    }\n",
       "</style>\n",
       "<table border=\"1\" class=\"dataframe\">\n",
       "  <thead>\n",
       "    <tr style=\"text-align: right;\">\n",
       "      <th></th>\n",
       "      <th>id</th>\n",
       "      <th>split</th>\n",
       "      <th>V</th>\n",
       "      <th>A</th>\n",
       "      <th>D</th>\n",
       "      <th>text</th>\n",
       "    </tr>\n",
       "  </thead>\n",
       "  <tbody>\n",
       "    <tr>\n",
       "      <th>0</th>\n",
       "      <td>110CYL068_1036_1079</td>\n",
       "      <td>train</td>\n",
       "      <td>3.00</td>\n",
       "      <td>3.00</td>\n",
       "      <td>3.20</td>\n",
       "      <td>Remember what she said in my last letter? \"</td>\n",
       "    </tr>\n",
       "    <tr>\n",
       "      <th>1</th>\n",
       "      <td>110CYL068_1079_1110</td>\n",
       "      <td>test</td>\n",
       "      <td>2.80</td>\n",
       "      <td>3.10</td>\n",
       "      <td>2.80</td>\n",
       "      <td>If I wasn't working here.</td>\n",
       "    </tr>\n",
       "    <tr>\n",
       "      <th>2</th>\n",
       "      <td>110CYL068_1127_1130</td>\n",
       "      <td>train</td>\n",
       "      <td>3.00</td>\n",
       "      <td>3.00</td>\n",
       "      <td>3.00</td>\n",
       "      <td>..\"</td>\n",
       "    </tr>\n",
       "    <tr>\n",
       "      <th>3</th>\n",
       "      <td>110CYL068_1137_1188</td>\n",
       "      <td>train</td>\n",
       "      <td>3.44</td>\n",
       "      <td>3.00</td>\n",
       "      <td>3.22</td>\n",
       "      <td>Goodwill helps people get off of public assist...</td>\n",
       "    </tr>\n",
       "    <tr>\n",
       "      <th>4</th>\n",
       "      <td>110CYL068_1189_1328</td>\n",
       "      <td>train</td>\n",
       "      <td>3.55</td>\n",
       "      <td>3.27</td>\n",
       "      <td>3.46</td>\n",
       "      <td>Sherry learned through our Future Works class ...</td>\n",
       "    </tr>\n",
       "  </tbody>\n",
       "</table>\n",
       "</div>"
      ],
      "text/plain": [
       "                    id  split     V     A     D  \\\n",
       "0  110CYL068_1036_1079  train  3.00  3.00  3.20   \n",
       "1  110CYL068_1079_1110   test  2.80  3.10  2.80   \n",
       "2  110CYL068_1127_1130  train  3.00  3.00  3.00   \n",
       "3  110CYL068_1137_1188  train  3.44  3.00  3.22   \n",
       "4  110CYL068_1189_1328  train  3.55  3.27  3.46   \n",
       "\n",
       "                                                text  \n",
       "0        Remember what she said in my last letter? \"  \n",
       "1                          If I wasn't working here.  \n",
       "2                                                ..\"  \n",
       "3  Goodwill helps people get off of public assist...  \n",
       "4  Sherry learned through our Future Works class ...  "
      ]
     },
     "execution_count": 3,
     "metadata": {},
     "output_type": "execute_result"
    }
   ],
   "source": [
    "# VAD has a decent distribution\n",
    "# Way better than 4000 short stories\n",
    "df.head()"
   ]
  },
  {
   "cell_type": "code",
   "execution_count": 4,
   "metadata": {},
   "outputs": [
    {
     "name": "stdout",
     "output_type": "stream",
     "text": [
      "Different splits are: {'test', 'dev', 'train'}\n"
     ]
    }
   ],
   "source": [
    "print(\"Different splits are: {}\".format(set(df[\"split\"].tolist())))"
   ]
  },
  {
   "cell_type": "code",
   "execution_count": 5,
   "metadata": {},
   "outputs": [
    {
     "data": {
      "text/plain": [
       "((8062, 6), (1000, 6), (1000, 6))"
      ]
     },
     "execution_count": 5,
     "metadata": {},
     "output_type": "execute_result"
    }
   ],
   "source": [
    "# Dividing into training, validation, and test set\n",
    "df_train = df[df[\"split\"] == \"train\"]\n",
    "df_val = df[df[\"split\"] == \"dev\"]\n",
    "df_test = df[df[\"split\"] == \"test\"]\n",
    "\n",
    "(df_train.shape, df_val.shape, df_test.shape)"
   ]
  },
  {
   "cell_type": "code",
   "execution_count": 6,
   "metadata": {},
   "outputs": [
    {
     "data": {
      "text/plain": [
       "((8062,), (8062,), (1000,), (1000,))"
      ]
     },
     "execution_count": 6,
     "metadata": {},
     "output_type": "execute_result"
    }
   ],
   "source": [
    "# Let us first train on Valence\n",
    "X_train = df_train[\"text\"]\n",
    "y_train = df_train[\"D\"]\n",
    "\n",
    "X_val = df_val[\"text\"]\n",
    "y_val = df_val[\"D\"]\n",
    "\n",
    "(X_train.shape, y_train.shape, X_val.shape, y_val.shape)"
   ]
  },
  {
   "cell_type": "code",
   "execution_count": 7,
   "metadata": {},
   "outputs": [],
   "source": [
    "# The shape can be a problem\n",
    "# Let us convert it into a Nx1 dimension\n",
    "\n",
    "# X_train = X_train.values.reshape(X_train.shape[0], 1)\n",
    "# y_train = y_train.values.reshape(y_train.shape[0], 1)\n",
    "\n",
    "# X_val = X_val.values.reshape(X_val.shape[0], 1)\n",
    "# y_val = y_val.values.reshape(y_val.shape[0], 1)\n",
    "\n",
    "# print(X_train.shape, y_train.shape, X_val.shape, y_val.shape)"
   ]
  },
  {
   "cell_type": "code",
   "execution_count": 8,
   "metadata": {
    "scrolled": false
   },
   "outputs": [
    {
     "name": "stdout",
     "output_type": "stream",
     "text": [
      "[['remember', 'what', 'she', 'said', 'in', 'my', 'last', 'letter', '?', '\"'], ['.', '.', '\"'], ['goodwill', 'helps', 'people', 'get', 'off', 'of', 'public', 'assistance', '.'], ['sherry', 'learned', 'through', 'our', 'future', 'works', 'class', 'that', 'she', 'could', 'rise', 'out', 'of', 'the', 'mire', 'of', 'the', 'welfare', 'system', 'and', 'support', 'her', 'family', '.'], ['coming', 'to', 'goodwill', 'was', 'the', 'first', 'step', 'toward', 'my', 'becoming', 'totally', 'independent', '.']]\n"
     ]
    }
   ],
   "source": [
    "# Much better!\n",
    "# Preprocessing text\n",
    "\n",
    "def clean_text(corpus):\n",
    "    punctuation = \"\"\"@.,?!:;(){}[]\"\"\"\n",
    "    corpus = [z.strip().lower().replace('\\n','') for z in corpus]\n",
    "    for c in punctuation:\n",
    "        # inserts whitespace on both sides of a punctuation\n",
    "        # so that in the next step it gets split\n",
    "        corpus = [z.replace(c, ' %s '%c) for z in corpus]\n",
    "    corpus = [z.split() for z in corpus]\n",
    "    return corpus\n",
    "\n",
    "X_train = clean_text(X_train)\n",
    "X_val = clean_text(X_val)\n",
    "\n",
    "print(X_train[:5])"
   ]
  },
  {
   "cell_type": "code",
   "execution_count": 9,
   "metadata": {},
   "outputs": [
    {
     "name": "stdout",
     "output_type": "stream",
     "text": [
      "[LabeledSentence(words=['remember', 'what', 'she', 'said', 'in', 'my', 'last', 'letter', '?', '\"'], tags=['TRAIN_0']), LabeledSentence(words=['.', '.', '\"'], tags=['TRAIN_1'])]\n"
     ]
    },
    {
     "name": "stderr",
     "output_type": "stream",
     "text": [
      "/home/parthparikh/.local/lib/python3.6/site-packages/ipykernel_launcher.py:9: DeprecationWarning: Call to deprecated `LabeledSentence` (Class will be removed in 4.0.0, use TaggedDocument instead).\n",
      "  if __name__ == '__main__':\n"
     ]
    }
   ],
   "source": [
    "# Labelizing h\n",
    "\n",
    "LabeledSentence = gensim.models.doc2vec.LabeledSentence\n",
    "\n",
    "def labelize(text, label_type):\n",
    "    labelized = []\n",
    "    for i, v in enumerate(text):\n",
    "        label = '%s_%s'%(label_type, i)\n",
    "        labelized.append(LabeledSentence(v, [label]))\n",
    "    return labelized\n",
    "\n",
    "X_train = labelize(X_train, 'TRAIN')\n",
    "X_val = labelize(X_val, 'DEV')\n",
    "\n",
    "print(X_train[:2])"
   ]
  },
  {
   "cell_type": "code",
   "execution_count": 10,
   "metadata": {},
   "outputs": [
    {
     "name": "stderr",
     "output_type": "stream",
     "text": [
      "/usr/local/lib/python3.6/dist-packages/gensim/models/doc2vec.py:574: UserWarning: The parameter `size` is deprecated, will be removed in 4.0.0, use `vector_size` instead.\n",
      "  warnings.warn(\"The parameter `size` is deprecated, will be removed in 4.0.0, use `vector_size` instead.\")\n"
     ]
    }
   ],
   "source": [
    "size = 300\n",
    "\n",
    "model_dm = gensim.models.Doc2Vec(min_count=1, \n",
    "                                 window=4, \n",
    "                                 size=size, \n",
    "                                 sample=1e-3, \n",
    "                                 negative=2, \n",
    "                                 workers=3)\n",
    "model_dbow = gensim.models.Doc2Vec(min_count=1, \n",
    "                                   window=4, \n",
    "                                   size=size, \n",
    "                                   sample=1e-3, \n",
    "                                   negative=2, \n",
    "                                   dm=0, \n",
    "                                   workers=3)\n",
    "\n",
    "model_dm.build_vocab(X_train + X_val)\n",
    "model_dbow.build_vocab(X_train + X_val)"
   ]
  },
  {
   "cell_type": "code",
   "execution_count": 11,
   "metadata": {},
   "outputs": [],
   "source": [
    "model_dm.train(X_train, total_examples = len(X_train), epochs=20)\n",
    "model_dbow.train(X_train, total_examples = len(X_train), epochs=20)"
   ]
  },
  {
   "cell_type": "code",
   "execution_count": 12,
   "metadata": {},
   "outputs": [
    {
     "data": {
      "text/plain": [
       "((8062, 300), (8062, 300))"
      ]
     },
     "execution_count": 12,
     "metadata": {},
     "output_type": "execute_result"
    }
   ],
   "source": [
    "# get vectors\n",
    "def get_vecs(model, corpus, size):\n",
    "    vecs = [np.array(model[z.tags[0]]).reshape((1, size)) for z in corpus]\n",
    "    return np.concatenate(vecs)\n",
    "\n",
    "train_vecs_dm = get_vecs(model_dm, X_train, size)\n",
    "train_vecs_dbow = get_vecs(model_dbow, X_train, size)\n",
    "\n",
    "train_vecs_dm.shape, train_vecs_dbow.shape"
   ]
  },
  {
   "cell_type": "code",
   "execution_count": 13,
   "metadata": {},
   "outputs": [
    {
     "data": {
      "text/plain": [
       "(8062, 600)"
      ]
     },
     "execution_count": 13,
     "metadata": {},
     "output_type": "execute_result"
    }
   ],
   "source": [
    "train_vecs = np.hstack((train_vecs_dm, train_vecs_dbow))\n",
    "train_vecs.shape"
   ]
  },
  {
   "cell_type": "code",
   "execution_count": 14,
   "metadata": {},
   "outputs": [
    {
     "data": {
      "text/plain": [
       "(1000, 600)"
      ]
     },
     "execution_count": 14,
     "metadata": {},
     "output_type": "execute_result"
    }
   ],
   "source": [
    "#train over validation set\n",
    "\n",
    "model_dm.train(X_val, total_examples = len(X_val), epochs=10)\n",
    "model_dbow.train(X_val, total_examples = len(X_val), epochs=10)\n",
    "\n",
    "val_vecs_dm = get_vecs(model_dm, X_val, size)\n",
    "val_vecs_dbow = get_vecs(model_dbow, X_val, size)\n",
    "\n",
    "val_vecs = np.hstack((val_vecs_dm, val_vecs_dbow))\n",
    "\n",
    "val_vecs.shape"
   ]
  },
  {
   "cell_type": "code",
   "execution_count": 15,
   "metadata": {
    "scrolled": true
   },
   "outputs": [
    {
     "name": "stdout",
     "output_type": "stream",
     "text": [
      "Iteration 1, loss = 5.32392654\n",
      "Iteration 2, loss = 5.24286757\n",
      "Iteration 3, loss = 5.16321517\n",
      "Iteration 4, loss = 5.08481568\n",
      "Iteration 5, loss = 5.00765510\n",
      "Iteration 6, loss = 4.93162275\n",
      "Iteration 7, loss = 4.85671427\n",
      "Iteration 8, loss = 4.78287957\n",
      "Iteration 9, loss = 4.71002846\n",
      "Iteration 10, loss = 4.63818577\n",
      "Iteration 11, loss = 4.56729522\n",
      "Iteration 12, loss = 4.49739762\n",
      "Iteration 13, loss = 4.42847456\n",
      "Iteration 14, loss = 4.36052357\n",
      "Iteration 15, loss = 4.29352270\n",
      "Iteration 16, loss = 4.22748429\n",
      "Iteration 17, loss = 4.16241639\n",
      "Iteration 18, loss = 4.09831841\n",
      "Iteration 19, loss = 4.03516227\n",
      "Iteration 20, loss = 3.97293514\n",
      "Iteration 21, loss = 3.91163101\n",
      "Iteration 22, loss = 3.85126608\n",
      "Iteration 23, loss = 3.79181934\n",
      "Iteration 24, loss = 3.73326941\n",
      "Iteration 25, loss = 3.67560771\n",
      "Iteration 26, loss = 3.61881887\n",
      "Iteration 27, loss = 3.56287557\n",
      "Iteration 28, loss = 3.50778050\n",
      "Iteration 29, loss = 3.45353568\n",
      "Iteration 30, loss = 3.40010322\n",
      "Iteration 31, loss = 3.34744679\n",
      "Iteration 32, loss = 3.29562759\n",
      "Iteration 33, loss = 3.24454882\n",
      "Iteration 34, loss = 3.19424391\n",
      "Iteration 35, loss = 3.14468902\n",
      "Iteration 36, loss = 3.09587165\n",
      "Iteration 37, loss = 3.04777612\n",
      "Iteration 38, loss = 3.00035803\n",
      "Iteration 39, loss = 2.95363574\n",
      "Iteration 40, loss = 2.90758431\n",
      "Iteration 41, loss = 2.86222242\n",
      "Iteration 42, loss = 2.81749487\n",
      "Iteration 43, loss = 2.77340919\n",
      "Iteration 44, loss = 2.72996441\n",
      "Iteration 45, loss = 2.68713179\n",
      "Iteration 46, loss = 2.64491131\n",
      "Iteration 47, loss = 2.60328427\n",
      "Iteration 48, loss = 2.56226367\n",
      "Iteration 49, loss = 2.52180726\n",
      "Iteration 50, loss = 2.48195595\n",
      "Iteration 51, loss = 2.44265659\n",
      "Iteration 52, loss = 2.40391757\n",
      "Iteration 53, loss = 2.36572449\n",
      "Iteration 54, loss = 2.32809197\n",
      "Iteration 55, loss = 2.29098715\n",
      "Iteration 56, loss = 2.25439285\n",
      "Iteration 57, loss = 2.21836747\n",
      "Iteration 58, loss = 2.18283734\n",
      "Iteration 59, loss = 2.14782064\n",
      "Iteration 60, loss = 2.11331124\n",
      "Iteration 61, loss = 2.07927737\n",
      "Iteration 62, loss = 2.04575405\n",
      "Iteration 63, loss = 2.01274161\n",
      "Iteration 64, loss = 1.98019069\n",
      "Iteration 65, loss = 1.94812458\n",
      "Iteration 66, loss = 1.91650679\n",
      "Iteration 67, loss = 1.88536505\n",
      "Iteration 68, loss = 1.85467767\n",
      "Iteration 69, loss = 1.82440619\n",
      "Iteration 70, loss = 1.79459938\n",
      "Iteration 71, loss = 1.76520079\n",
      "Iteration 72, loss = 1.73624111\n",
      "Iteration 73, loss = 1.70770297\n",
      "Iteration 74, loss = 1.67956948\n",
      "Iteration 75, loss = 1.65185563\n",
      "Iteration 76, loss = 1.62453674\n",
      "Iteration 77, loss = 1.59759833\n",
      "Iteration 78, loss = 1.57104874\n",
      "Iteration 79, loss = 1.54487729\n",
      "Iteration 80, loss = 1.51907803\n",
      "Iteration 81, loss = 1.49363863\n",
      "Iteration 82, loss = 1.46855938\n",
      "Iteration 83, loss = 1.44383529\n",
      "Iteration 84, loss = 1.41947212\n",
      "Iteration 85, loss = 1.39544648\n",
      "Iteration 86, loss = 1.37175510\n",
      "Iteration 87, loss = 1.34838783\n",
      "Iteration 88, loss = 1.32536455\n",
      "Iteration 89, loss = 1.30265554\n",
      "Iteration 90, loss = 1.28026118\n",
      "Iteration 91, loss = 1.25817903\n",
      "Iteration 92, loss = 1.23640973\n",
      "Iteration 93, loss = 1.21493934\n",
      "Iteration 94, loss = 1.19375210\n",
      "Iteration 95, loss = 1.17287633\n",
      "Iteration 96, loss = 1.15228222\n",
      "Iteration 97, loss = 1.13196136\n",
      "Iteration 98, loss = 1.11192436\n",
      "Iteration 99, loss = 1.09217453\n",
      "Iteration 100, loss = 1.07268427\n",
      "Iteration 101, loss = 1.05347742\n",
      "Iteration 102, loss = 1.03452980\n",
      "Iteration 103, loss = 1.01582308\n",
      "Iteration 104, loss = 0.99737042\n",
      "Iteration 105, loss = 0.97919211\n",
      "Iteration 106, loss = 0.96125573\n",
      "Iteration 107, loss = 0.94355987\n",
      "Iteration 108, loss = 0.92610915\n",
      "Iteration 109, loss = 0.90890121\n",
      "Iteration 110, loss = 0.89193089\n",
      "Iteration 111, loss = 0.87519721\n",
      "Iteration 112, loss = 0.85867436\n",
      "Iteration 113, loss = 0.84238197\n",
      "Iteration 114, loss = 0.82632194\n",
      "Iteration 115, loss = 0.81046640\n",
      "Iteration 116, loss = 0.79483089\n",
      "Iteration 117, loss = 0.77941697\n",
      "Iteration 118, loss = 0.76420188\n",
      "Iteration 119, loss = 0.74919382\n",
      "Iteration 120, loss = 0.73438623\n",
      "Iteration 121, loss = 0.71976590\n",
      "Iteration 122, loss = 0.70534109\n",
      "Iteration 123, loss = 0.69110152\n",
      "Iteration 124, loss = 0.67705000\n",
      "Iteration 125, loss = 0.66318039\n",
      "Iteration 126, loss = 0.64948024\n",
      "Iteration 127, loss = 0.63596197\n",
      "Iteration 128, loss = 0.62260614\n",
      "Iteration 129, loss = 0.60941141\n",
      "Iteration 130, loss = 0.59638571\n",
      "Iteration 131, loss = 0.58351728\n",
      "Iteration 132, loss = 0.57079705\n",
      "Iteration 133, loss = 0.55824335\n",
      "Iteration 134, loss = 0.54582600\n",
      "Iteration 135, loss = 0.53356649\n",
      "Iteration 136, loss = 0.52143169\n",
      "Iteration 137, loss = 0.50943805\n",
      "Iteration 138, loss = 0.49757921\n",
      "Iteration 139, loss = 0.48585238\n",
      "Iteration 140, loss = 0.47424912\n",
      "Iteration 141, loss = 0.46277524\n",
      "Iteration 142, loss = 0.45140939\n",
      "Iteration 143, loss = 0.44016744\n",
      "Iteration 144, loss = 0.42905104\n",
      "Iteration 145, loss = 0.41805615\n",
      "Iteration 146, loss = 0.40717028\n",
      "Iteration 147, loss = 0.39640153\n",
      "Iteration 148, loss = 0.38574524\n",
      "Iteration 149, loss = 0.37519925\n",
      "Iteration 150, loss = 0.36478078\n",
      "Iteration 151, loss = 0.35447856\n",
      "Iteration 152, loss = 0.34430221\n",
      "Iteration 153, loss = 0.33424882\n",
      "Iteration 154, loss = 0.32430521\n",
      "Iteration 155, loss = 0.31451328\n",
      "Iteration 156, loss = 0.30484483\n",
      "Iteration 157, loss = 0.29531879\n",
      "Iteration 158, loss = 0.28593145\n",
      "Iteration 159, loss = 0.27669464\n",
      "Iteration 160, loss = 0.26760404\n",
      "Iteration 161, loss = 0.25866557\n",
      "Iteration 162, loss = 0.24988737\n",
      "Iteration 163, loss = 0.24126308\n",
      "Iteration 164, loss = 0.23280793\n",
      "Iteration 165, loss = 0.22451947\n",
      "Iteration 166, loss = 0.21639841\n",
      "Iteration 167, loss = 0.20846594\n",
      "Iteration 168, loss = 0.20070809\n",
      "Iteration 169, loss = 0.19314378\n",
      "Iteration 170, loss = 0.18576711\n",
      "Iteration 171, loss = 0.17856939\n",
      "Iteration 172, loss = 0.17156314\n",
      "Iteration 173, loss = 0.16475360\n",
      "Iteration 174, loss = 0.15814517\n",
      "Iteration 175, loss = 0.15171964\n",
      "Iteration 176, loss = 0.14549103\n",
      "Iteration 177, loss = 0.13945601\n",
      "Iteration 178, loss = 0.13360918\n",
      "Iteration 179, loss = 0.12795445\n",
      "Iteration 180, loss = 0.12249747\n",
      "Iteration 181, loss = 0.11723149\n",
      "Iteration 182, loss = 0.11214938\n",
      "Iteration 183, loss = 0.10725882\n",
      "Iteration 184, loss = 0.10254380\n",
      "Iteration 185, loss = 0.09801499\n",
      "Iteration 186, loss = 0.09366314\n",
      "Iteration 187, loss = 0.08948620\n",
      "Iteration 188, loss = 0.08548380\n",
      "Iteration 189, loss = 0.08165186\n",
      "Iteration 190, loss = 0.07798463\n",
      "Iteration 191, loss = 0.07448485\n",
      "Iteration 192, loss = 0.07114036\n",
      "Iteration 193, loss = 0.06794448\n",
      "Iteration 194, loss = 0.06490835\n",
      "Iteration 195, loss = 0.06201723\n",
      "Iteration 196, loss = 0.05926855\n",
      "Iteration 197, loss = 0.05665752\n",
      "Iteration 198, loss = 0.05418919\n",
      "Iteration 199, loss = 0.05185581\n",
      "Iteration 200, loss = 0.04964427\n",
      "Iteration 201, loss = 0.04755101\n",
      "Iteration 202, loss = 0.04557567\n",
      "Iteration 203, loss = 0.04372062\n",
      "Iteration 204, loss = 0.04196927\n",
      "Iteration 205, loss = 0.04033139\n",
      "Iteration 206, loss = 0.03879132\n",
      "Iteration 207, loss = 0.03735817\n",
      "Iteration 208, loss = 0.03602267\n",
      "Iteration 209, loss = 0.03477002\n",
      "Iteration 210, loss = 0.03360385\n",
      "Iteration 211, loss = 0.03252122\n",
      "Iteration 212, loss = 0.03151977\n",
      "Iteration 213, loss = 0.03059119\n",
      "Iteration 214, loss = 0.02973677\n",
      "Iteration 215, loss = 0.02894497\n",
      "Iteration 216, loss = 0.02821768\n",
      "Iteration 217, loss = 0.02754660\n",
      "Iteration 218, loss = 0.02693371\n",
      "Iteration 219, loss = 0.02637741\n",
      "Iteration 220, loss = 0.02586222\n",
      "Iteration 221, loss = 0.02539696\n",
      "Iteration 222, loss = 0.02497318\n",
      "Iteration 223, loss = 0.02459169\n",
      "Iteration 224, loss = 0.02424955\n",
      "Iteration 225, loss = 0.02393816\n",
      "Iteration 226, loss = 0.02366030\n",
      "Iteration 227, loss = 0.02340877\n",
      "Iteration 228, loss = 0.02318686\n",
      "Iteration 229, loss = 0.02298790\n",
      "Iteration 230, loss = 0.02280889\n",
      "Iteration 231, loss = 0.02264866\n",
      "Iteration 232, loss = 0.02250937\n",
      "Iteration 233, loss = 0.02238618\n",
      "Iteration 234, loss = 0.02227514\n",
      "Iteration 235, loss = 0.02217772\n",
      "Iteration 236, loss = 0.02209158\n",
      "Iteration 237, loss = 0.02201775\n",
      "Iteration 238, loss = 0.02195019\n",
      "Iteration 239, loss = 0.02189106\n",
      "Iteration 240, loss = 0.02183978\n",
      "Iteration 241, loss = 0.02179380\n",
      "Iteration 242, loss = 0.02175284\n",
      "Iteration 243, loss = 0.02171955\n",
      "Iteration 244, loss = 0.02168676\n",
      "Iteration 245, loss = 0.02165983\n",
      "Iteration 246, loss = 0.02163556\n",
      "Iteration 247, loss = 0.02161307\n",
      "Iteration 248, loss = 0.02159288\n",
      "Iteration 249, loss = 0.02157393\n",
      "Iteration 250, loss = 0.02155828\n",
      "Iteration 251, loss = 0.02154348\n",
      "Iteration 252, loss = 0.02153002\n"
     ]
    },
    {
     "name": "stdout",
     "output_type": "stream",
     "text": [
      "Iteration 253, loss = 0.02151623\n",
      "Iteration 254, loss = 0.02150416\n",
      "Iteration 255, loss = 0.02149257\n",
      "Iteration 256, loss = 0.02148185\n",
      "Iteration 257, loss = 0.02147159\n",
      "Iteration 258, loss = 0.02146200\n",
      "Iteration 259, loss = 0.02145230\n",
      "Iteration 260, loss = 0.02144293\n",
      "Iteration 261, loss = 0.02143473\n",
      "Iteration 262, loss = 0.02142695\n",
      "Iteration 263, loss = 0.02141954\n",
      "Iteration 264, loss = 0.02141085\n",
      "Iteration 265, loss = 0.02140341\n",
      "Iteration 266, loss = 0.02139572\n",
      "Iteration 267, loss = 0.02138903\n",
      "Iteration 268, loss = 0.02138200\n",
      "Training loss did not improve more than tol=0.000010 for 10 consecutive epochs. Stopping.\n",
      "0.03579781092955303\n",
      "0.0029706497538846133\n"
     ]
    }
   ],
   "source": [
    "regr = MLPRegressor(hidden_layer_sizes=(10, 5), max_iter=300, alpha=1e-4, learning_rate_init=0.0001, verbose=True, tol=0.00001, solver='adam', activation=\"logistic\")\n",
    "\n",
    "scaler = StandardScaler()\n",
    "scaler.fit(train_vecs)\n",
    "\n",
    "train_vecs = scaler.transform(train_vecs)\n",
    "val_vecs = scaler.transform(val_vecs)\n",
    "\n",
    "pca = PCA(.95)\n",
    "pca.fit(train_vecs)\n",
    "\n",
    "train_vecs = pca.transform(train_vecs)\n",
    "val_vecs = pca.transform(val_vecs)\n",
    "\n",
    "regr.fit(train_vecs, y_train)\n",
    "\n",
    "print(regr.score(train_vecs, y_train))\n",
    "print(regr.score(val_vecs, y_val))"
   ]
  },
  {
   "cell_type": "code",
   "execution_count": 16,
   "metadata": {},
   "outputs": [
    {
     "data": {
      "text/plain": [
       "<matplotlib.axes._subplots.AxesSubplot at 0x7f5804712cf8>"
      ]
     },
     "execution_count": 16,
     "metadata": {},
     "output_type": "execute_result"
    },
    {
     "data": {
      "image/png": "[encoded data removed]",
      "text/plain": [
       "<Figure size 432x288 with 1 Axes>"
      ]
     },
     "metadata": {
      "needs_background": "light"
     },
     "output_type": "display_data"
    }
   ],
   "source": [
    "pd.DataFrame(regr.loss_curve_).plot()"
   ]
  },
  {
   "cell_type": "code",
   "execution_count": 17,
   "metadata": {},
   "outputs": [
    {
     "name": "stdout",
     "output_type": "stream",
     "text": [
      "[3.08147996] LabeledSentence(['she', 'tells', 'me', 'that', 'the', '3', ',', '666', 'people', 'we', 'helped', 'find', 'jobs', 'in', '1998', 'earned', 'approximately', '$49', 'million', 'dollars', '.'], ['DEV_1']) 3.3\n"
     ]
    }
   ],
   "source": [
    "n = 1\n",
    "print(regr.predict([val_vecs[n]]), X_val[n], y_val.iloc[n])"
   ]
  },
  {
   "cell_type": "code",
   "execution_count": 18,
   "metadata": {},
   "outputs": [
    {
     "name": "stdout",
     "output_type": "stream",
     "text": [
      "0.02138200257081688\n",
      "0.2015066845957303\n"
     ]
    }
   ],
   "source": [
    "print(regr.loss_)\n",
    "\n",
    "y_pred = regr.predict(val_vecs)\n",
    "\n",
    "print(sqrt(metrics.mean_squared_error(y_val, y_pred)))"
   ]
  },
  {
   "cell_type": "code",
   "execution_count": 19,
   "metadata": {},
   "outputs": [
    {
     "data": {
      "text/plain": [
       "Text(0, 0.5, 'y pred')"
      ]
     },
     "execution_count": 19,
     "metadata": {},
     "output_type": "execute_result"
    },
    {
     "data": {
      "image/png": "[encoded data removed]",
      "text/plain": [
       "<Figure size 432x288 with 1 Axes>"
      ]
     },
     "metadata": {
      "needs_background": "light"
     },
     "output_type": "display_data"
    }
   ],
   "source": [
    "y_pred = regr.predict(val_vecs)\n",
    "plt.scatter(y_val, y_pred, c=\"orange\", label=\"MLP-regressor\", marker=\".\")\n",
    "plt.xlabel(\"y train\")\n",
    "plt.ylabel(\"y pred\")"
   ]
  },
  {
   "cell_type": "code",
   "execution_count": 20,
   "metadata": {},
   "outputs": [
    {
     "name": "stdout",
     "output_type": "stream",
     "text": [
      "0.04796656907495467\n",
      "-0.06291500551068041\n"
     ]
    }
   ],
   "source": [
    "# Linear Regression\n",
    "reg = LinearRegression(normalize=True).fit(train_vecs, y_train)\n",
    "\n",
    "print(reg.score(train_vecs, y_train))\n",
    "print(reg.score(val_vecs, y_val))"
   ]
  },
  {
   "cell_type": "code",
   "execution_count": 21,
   "metadata": {},
   "outputs": [
    {
     "data": {
      "text/plain": [
       "<matplotlib.axes._subplots.AxesSubplot at 0x7f5804661b00>"
      ]
     },
     "execution_count": 21,
     "metadata": {},
     "output_type": "execute_result"
    },
    {
     "data": {
      "image/png": "[encoded data removed]",
      "text/plain": [
       "<Figure size 432x288 with 1 Axes>"
      ]
     },
     "metadata": {
      "needs_background": "light"
     },
     "output_type": "display_data"
    }
   ],
   "source": [
    "# Density curve of y_val\n",
    "y_val.plot(kind='density', xticks = [i/2 for i in range(12)])"
   ]
  },
  {
   "cell_type": "code",
   "execution_count": 22,
   "metadata": {},
   "outputs": [
    {
     "data": {
      "text/plain": [
       "(array([  4.,  12.,  42., 175., 488., 216.,  49.,  12.,   1.,   1.]),\n",
       " array([2.2 , 2.39, 2.58, 2.77, 2.96, 3.15, 3.34, 3.53, 3.72, 3.91, 4.1 ]),\n",
       " <a list of 10 Patch objects>)"
      ]
     },
     "execution_count": 22,
     "metadata": {},
     "output_type": "execute_result"
    },
    {
     "data": {
      "image/png": "[encoded data removed]",
      "text/plain": [
       "<Figure size 432x288 with 1 Axes>"
      ]
     },
     "metadata": {
      "needs_background": "light"
     },
     "output_type": "display_data"
    }
   ],
   "source": [
    "# Histogram of y_val\n",
    "plt.hist(y_val, label=\"y_actual_value\")"
   ]
  },
  {
   "cell_type": "code",
   "execution_count": 23,
   "metadata": {},
   "outputs": [
    {
     "name": "stdout",
     "output_type": "stream",
     "text": [
      "0.5353776249477619\n",
      "-0.035306936241627174\n"
     ]
    }
   ],
   "source": [
    "# SVR\n",
    "svr_reg = make_pipeline(StandardScaler(), SVR(kernel=\"rbf\", C=0.8, epsilon=0.2))\n",
    "svr_reg.fit(train_vecs, y_train)\n",
    "\n",
    "print(svr_reg.score(train_vecs, y_train))\n",
    "print(svr_reg.score(val_vecs, y_val))"
   ]
  },
  {
   "cell_type": "code",
   "execution_count": 24,
   "metadata": {},
   "outputs": [
    {
     "data": {
      "text/plain": [
       "Text(0, 0.5, 'y pred')"
      ]
     },
     "execution_count": 24,
     "metadata": {},
     "output_type": "execute_result"
    },
    {
     "data": {
      "image/png": "[encoded data removed]",
      "text/plain": [
       "<Figure size 432x288 with 1 Axes>"
      ]
     },
     "metadata": {
      "needs_background": "light"
     },
     "output_type": "display_data"
    }
   ],
   "source": [
    "svr_y_pred = svr_reg.predict(val_vecs)\n",
    "plt.scatter(y_val, svr_y_pred, c=\"orange\", label=\"MLP-regressor\", marker=\".\")\n",
    "plt.xlabel(\"y train\")\n",
    "plt.ylabel(\"y pred\")"
   ]
  },
  {
   "cell_type": "code",
   "execution_count": 25,
   "metadata": {},
   "outputs": [
    {
     "name": "stdout",
     "output_type": "stream",
     "text": [
      "0.20533834051824323\n"
     ]
    }
   ],
   "source": [
    "print(sqrt(metrics.mean_squared_error(y_val, svr_y_pred)))"
   ]
  },
  {
   "cell_type": "code",
   "execution_count": 26,
   "metadata": {},
   "outputs": [
    {
     "name": "stdout",
     "output_type": "stream",
     "text": [
      "0.6546222177512113\n",
      "-0.04942562739610889\n"
     ]
    },
    {
     "data": {
      "text/plain": [
       "Text(0, 0.5, 'y pred')"
      ]
     },
     "execution_count": 26,
     "metadata": {},
     "output_type": "execute_result"
    },
    {
     "data": {
      "image/png": "[encoded data removed]",
      "text/plain": [
       "<Figure size 432x288 with 1 Axes>"
      ]
     },
     "metadata": {
      "needs_background": "light"
     },
     "output_type": "display_data"
    }
   ],
   "source": [
    "from sklearn.svm import NuSVR\n",
    "\n",
    "nu_svr_reg = make_pipeline(StandardScaler(), NuSVR(C=1.0, nu=0.1))\n",
    "nu_svr_reg.fit(train_vecs, y_train)\n",
    "\n",
    "print(nu_svr_reg.score(train_vecs, y_train))\n",
    "print(nu_svr_reg.score(val_vecs, y_val))\n",
    "\n",
    "nu_svr_y_pred = nu_svr_reg.predict(val_vecs)\n",
    "plt.scatter(y_val, nu_svr_y_pred, c=\"orange\", label=\"MLP-regressor\", marker=\".\")\n",
    "plt.xlabel(\"y train\")\n",
    "plt.ylabel(\"y pred\")"
   ]
  },
  {
   "cell_type": "code",
   "execution_count": 27,
   "metadata": {},
   "outputs": [
    {
     "name": "stdout",
     "output_type": "stream",
     "text": [
      "0.2067337197063115\n"
     ]
    }
   ],
   "source": [
    "print(sqrt(metrics.mean_squared_error(y_val, nu_svr_y_pred)))"
   ]
  },
  {
   "cell_type": "code",
   "execution_count": null,
   "metadata": {},
   "outputs": [],
   "source": []
  }
 ],
 "metadata": {
  "kernelspec": {
   "display_name": "Python 3",
   "language": "python",
   "name": "python3"
  },
  "language_info": {
   "codemirror_mode": {
    "name": "ipython",
    "version": 3
   },
   "file_extension": ".py",
   "mimetype": "text/x-python",
   "name": "python",
   "nbconvert_exporter": "python",
   "pygments_lexer": "ipython3",
   "version": "3.6.10"
  }
 },
 "nbformat": 4,
 "nbformat_minor": 4
}
