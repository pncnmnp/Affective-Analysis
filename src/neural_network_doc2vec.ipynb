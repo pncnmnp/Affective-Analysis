{
 "cells": [
  {
   "cell_type": "code",
   "execution_count": 1,
   "metadata": {},
   "outputs": [],
   "source": [
    "import gensim\n",
    "import pandas as pd\n",
    "import numpy as np\n",
    "\n",
    "from matplotlib import pyplot as plt\n",
    "\n",
    "from sklearn.neural_network import MLPRegressor\n",
    "from sklearn import metrics\n",
    "\n",
    "from sklearn.decomposition import PCA\n",
    "\n",
    "from sklearn.linear_model import LinearRegression\n",
    "\n",
    "from sklearn.svm import SVR\n",
    "from sklearn.pipeline import make_pipeline\n",
    "from sklearn.preprocessing import StandardScaler"
   ]
  },
  {
   "cell_type": "code",
   "execution_count": 2,
   "metadata": {},
   "outputs": [
    {
     "data": {
      "text/html": [
       "<div>\n",
       "<style scoped>\n",
       "    .dataframe tbody tr th:only-of-type {\n",
       "        vertical-align: middle;\n",
       "    }\n",
       "\n",
       "    .dataframe tbody tr th {\n",
       "        vertical-align: top;\n",
       "    }\n",
       "\n",
       "    .dataframe thead th {\n",
       "        text-align: right;\n",
       "    }\n",
       "</style>\n",
       "<table border=\"1\" class=\"dataframe\">\n",
       "  <thead>\n",
       "    <tr style=\"text-align: right;\">\n",
       "      <th></th>\n",
       "      <th>V</th>\n",
       "      <th>A</th>\n",
       "      <th>D</th>\n",
       "    </tr>\n",
       "  </thead>\n",
       "  <tbody>\n",
       "    <tr>\n",
       "      <th>count</th>\n",
       "      <td>10062.000000</td>\n",
       "      <td>10062.000000</td>\n",
       "      <td>10062.000000</td>\n",
       "    </tr>\n",
       "    <tr>\n",
       "      <th>mean</th>\n",
       "      <td>2.976690</td>\n",
       "      <td>3.041785</td>\n",
       "      <td>3.062763</td>\n",
       "    </tr>\n",
       "    <tr>\n",
       "      <th>std</th>\n",
       "      <td>0.348715</td>\n",
       "      <td>0.259541</td>\n",
       "      <td>0.209675</td>\n",
       "    </tr>\n",
       "    <tr>\n",
       "      <th>min</th>\n",
       "      <td>1.200000</td>\n",
       "      <td>1.800000</td>\n",
       "      <td>1.780000</td>\n",
       "    </tr>\n",
       "    <tr>\n",
       "      <th>25%</th>\n",
       "      <td>2.800000</td>\n",
       "      <td>2.890000</td>\n",
       "      <td>3.000000</td>\n",
       "    </tr>\n",
       "    <tr>\n",
       "      <th>50%</th>\n",
       "      <td>3.000000</td>\n",
       "      <td>3.000000</td>\n",
       "      <td>3.090000</td>\n",
       "    </tr>\n",
       "    <tr>\n",
       "      <th>75%</th>\n",
       "      <td>3.120000</td>\n",
       "      <td>3.200000</td>\n",
       "      <td>3.200000</td>\n",
       "    </tr>\n",
       "    <tr>\n",
       "      <th>max</th>\n",
       "      <td>4.600000</td>\n",
       "      <td>4.400000</td>\n",
       "      <td>4.200000</td>\n",
       "    </tr>\n",
       "  </tbody>\n",
       "</table>\n",
       "</div>"
      ],
      "text/plain": [
       "                  V             A             D\n",
       "count  10062.000000  10062.000000  10062.000000\n",
       "mean       2.976690      3.041785      3.062763\n",
       "std        0.348715      0.259541      0.209675\n",
       "min        1.200000      1.800000      1.780000\n",
       "25%        2.800000      2.890000      3.000000\n",
       "50%        3.000000      3.000000      3.090000\n",
       "75%        3.120000      3.200000      3.200000\n",
       "max        4.600000      4.400000      4.200000"
      ]
     },
     "execution_count": 2,
     "metadata": {},
     "output_type": "execute_result"
    }
   ],
   "source": [
    "EMOBANK_CORPUS = \"../corpus/emobank.csv\"\n",
    "df = pd.read_csv(EMOBANK_CORPUS)\n",
    "df.describe()"
   ]
  },
  {
   "cell_type": "code",
   "execution_count": 3,
   "metadata": {},
   "outputs": [
    {
     "data": {
      "text/html": [
       "<div>\n",
       "<style scoped>\n",
       "    .dataframe tbody tr th:only-of-type {\n",
       "        vertical-align: middle;\n",
       "    }\n",
       "\n",
       "    .dataframe tbody tr th {\n",
       "        vertical-align: top;\n",
       "    }\n",
       "\n",
       "    .dataframe thead th {\n",
       "        text-align: right;\n",
       "    }\n",
       "</style>\n",
       "<table border=\"1\" class=\"dataframe\">\n",
       "  <thead>\n",
       "    <tr style=\"text-align: right;\">\n",
       "      <th></th>\n",
       "      <th>id</th>\n",
       "      <th>split</th>\n",
       "      <th>V</th>\n",
       "      <th>A</th>\n",
       "      <th>D</th>\n",
       "      <th>text</th>\n",
       "    </tr>\n",
       "  </thead>\n",
       "  <tbody>\n",
       "    <tr>\n",
       "      <th>0</th>\n",
       "      <td>110CYL068_1036_1079</td>\n",
       "      <td>train</td>\n",
       "      <td>3.00</td>\n",
       "      <td>3.00</td>\n",
       "      <td>3.20</td>\n",
       "      <td>Remember what she said in my last letter? \"</td>\n",
       "    </tr>\n",
       "    <tr>\n",
       "      <th>1</th>\n",
       "      <td>110CYL068_1079_1110</td>\n",
       "      <td>test</td>\n",
       "      <td>2.80</td>\n",
       "      <td>3.10</td>\n",
       "      <td>2.80</td>\n",
       "      <td>If I wasn't working here.</td>\n",
       "    </tr>\n",
       "    <tr>\n",
       "      <th>2</th>\n",
       "      <td>110CYL068_1127_1130</td>\n",
       "      <td>train</td>\n",
       "      <td>3.00</td>\n",
       "      <td>3.00</td>\n",
       "      <td>3.00</td>\n",
       "      <td>..\"</td>\n",
       "    </tr>\n",
       "    <tr>\n",
       "      <th>3</th>\n",
       "      <td>110CYL068_1137_1188</td>\n",
       "      <td>train</td>\n",
       "      <td>3.44</td>\n",
       "      <td>3.00</td>\n",
       "      <td>3.22</td>\n",
       "      <td>Goodwill helps people get off of public assist...</td>\n",
       "    </tr>\n",
       "    <tr>\n",
       "      <th>4</th>\n",
       "      <td>110CYL068_1189_1328</td>\n",
       "      <td>train</td>\n",
       "      <td>3.55</td>\n",
       "      <td>3.27</td>\n",
       "      <td>3.46</td>\n",
       "      <td>Sherry learned through our Future Works class ...</td>\n",
       "    </tr>\n",
       "  </tbody>\n",
       "</table>\n",
       "</div>"
      ],
      "text/plain": [
       "                    id  split     V     A     D  \\\n",
       "0  110CYL068_1036_1079  train  3.00  3.00  3.20   \n",
       "1  110CYL068_1079_1110   test  2.80  3.10  2.80   \n",
       "2  110CYL068_1127_1130  train  3.00  3.00  3.00   \n",
       "3  110CYL068_1137_1188  train  3.44  3.00  3.22   \n",
       "4  110CYL068_1189_1328  train  3.55  3.27  3.46   \n",
       "\n",
       "                                                text  \n",
       "0        Remember what she said in my last letter? \"  \n",
       "1                          If I wasn't working here.  \n",
       "2                                                ..\"  \n",
       "3  Goodwill helps people get off of public assist...  \n",
       "4  Sherry learned through our Future Works class ...  "
      ]
     },
     "execution_count": 3,
     "metadata": {},
     "output_type": "execute_result"
    }
   ],
   "source": [
    "# VAD has a decent distribution\n",
    "# Way better than 4000 short stories\n",
    "df.head()"
   ]
  },
  {
   "cell_type": "code",
   "execution_count": 4,
   "metadata": {},
   "outputs": [
    {
     "name": "stdout",
     "output_type": "stream",
     "text": [
      "Different splits are: {'dev', 'train', 'test'}\n"
     ]
    }
   ],
   "source": [
    "print(\"Different splits are: {}\".format(set(df[\"split\"].tolist())))"
   ]
  },
  {
   "cell_type": "code",
   "execution_count": 5,
   "metadata": {},
   "outputs": [
    {
     "data": {
      "text/plain": [
       "((8062, 6), (1000, 6), (1000, 6))"
      ]
     },
     "execution_count": 5,
     "metadata": {},
     "output_type": "execute_result"
    }
   ],
   "source": [
    "# Dividing into training, validation, and test set\n",
    "df_train = df[df[\"split\"] == \"train\"]\n",
    "df_val = df[df[\"split\"] == \"dev\"]\n",
    "df_test = df[df[\"split\"] == \"test\"]\n",
    "\n",
    "(df_train.shape, df_val.shape, df_test.shape)"
   ]
  },
  {
   "cell_type": "code",
   "execution_count": 6,
   "metadata": {},
   "outputs": [
    {
     "data": {
      "text/plain": [
       "((8062,), (8062,), (1000,), (1000,))"
      ]
     },
     "execution_count": 6,
     "metadata": {},
     "output_type": "execute_result"
    }
   ],
   "source": [
    "# Let us first train on Valence\n",
    "X_train = df_train[\"text\"]\n",
    "y_train = df_train[\"V\"]\n",
    "\n",
    "X_val = df_val[\"text\"]\n",
    "y_val = df_val[\"V\"]\n",
    "\n",
    "(X_train.shape, y_train.shape, X_val.shape, y_val.shape)"
   ]
  },
  {
   "cell_type": "code",
   "execution_count": 7,
   "metadata": {},
   "outputs": [],
   "source": [
    "# The shape can be a problem\n",
    "# Let us convert it into a Nx1 dimension\n",
    "\n",
    "# X_train = X_train.values.reshape(X_train.shape[0], 1)\n",
    "# y_train = y_train.values.reshape(y_train.shape[0], 1)\n",
    "\n",
    "# X_val = X_val.values.reshape(X_val.shape[0], 1)\n",
    "# y_val = y_val.values.reshape(y_val.shape[0], 1)\n",
    "\n",
    "# print(X_train.shape, y_train.shape, X_val.shape, y_val.shape)"
   ]
  },
  {
   "cell_type": "code",
   "execution_count": 8,
   "metadata": {
    "scrolled": false
   },
   "outputs": [
    {
     "name": "stdout",
     "output_type": "stream",
     "text": [
      "[['remember', 'what', 'she', 'said', 'in', 'my', 'last', 'letter', '?', '\"'], ['.', '.', '\"'], ['goodwill', 'helps', 'people', 'get', 'off', 'of', 'public', 'assistance', '.'], ['sherry', 'learned', 'through', 'our', 'future', 'works', 'class', 'that', 'she', 'could', 'rise', 'out', 'of', 'the', 'mire', 'of', 'the', 'welfare', 'system', 'and', 'support', 'her', 'family', '.'], ['coming', 'to', 'goodwill', 'was', 'the', 'first', 'step', 'toward', 'my', 'becoming', 'totally', 'independent', '.']]\n"
     ]
    }
   ],
   "source": [
    "# Much better!\n",
    "# Preprocessing text\n",
    "\n",
    "def clean_text(corpus):\n",
    "    punctuation = \"\"\"@.,?!:;(){}[]\"\"\"\n",
    "    corpus = [z.strip().lower().replace('\\n','') for z in corpus]\n",
    "    for c in punctuation:\n",
    "        # inserts whitespace on both sides of a punctuation\n",
    "        # so that in the next step it gets split\n",
    "        corpus = [z.replace(c, ' %s '%c) for z in corpus]\n",
    "    corpus = [z.split() for z in corpus]\n",
    "    return corpus\n",
    "\n",
    "X_train = clean_text(X_train)\n",
    "X_val = clean_text(X_val)\n",
    "\n",
    "print(X_train[:5])"
   ]
  },
  {
   "cell_type": "code",
   "execution_count": 9,
   "metadata": {},
   "outputs": [
    {
     "name": "stdout",
     "output_type": "stream",
     "text": [
      "[LabeledSentence(words=['remember', 'what', 'she', 'said', 'in', 'my', 'last', 'letter', '?', '\"'], tags=['TRAIN_0']), LabeledSentence(words=['.', '.', '\"'], tags=['TRAIN_1'])]\n"
     ]
    },
    {
     "name": "stderr",
     "output_type": "stream",
     "text": [
      "/home/parthparikh/.local/lib/python3.6/site-packages/ipykernel_launcher.py:9: DeprecationWarning: Call to deprecated `LabeledSentence` (Class will be removed in 4.0.0, use TaggedDocument instead).\n",
      "  if __name__ == '__main__':\n"
     ]
    }
   ],
   "source": [
    "# Labelizing h\n",
    "\n",
    "LabeledSentence = gensim.models.doc2vec.LabeledSentence\n",
    "\n",
    "def labelize(text, label_type):\n",
    "    labelized = []\n",
    "    for i, v in enumerate(text):\n",
    "        label = '%s_%s'%(label_type, i)\n",
    "        labelized.append(LabeledSentence(v, [label]))\n",
    "    return labelized\n",
    "\n",
    "X_train = labelize(X_train, 'TRAIN')\n",
    "X_val = labelize(X_val, 'DEV')\n",
    "\n",
    "print(X_train[:2])"
   ]
  },
  {
   "cell_type": "code",
   "execution_count": 10,
   "metadata": {},
   "outputs": [
    {
     "name": "stderr",
     "output_type": "stream",
     "text": [
      "/usr/local/lib/python3.6/dist-packages/gensim/models/doc2vec.py:574: UserWarning: The parameter `size` is deprecated, will be removed in 4.0.0, use `vector_size` instead.\n",
      "  warnings.warn(\"The parameter `size` is deprecated, will be removed in 4.0.0, use `vector_size` instead.\")\n"
     ]
    }
   ],
   "source": [
    "size = 300\n",
    "\n",
    "model_dm = gensim.models.Doc2Vec(min_count=1, \n",
    "                                 window=10, \n",
    "                                 size=size, \n",
    "                                 sample=1e-3, \n",
    "                                 negative=5, \n",
    "                                 workers=3)\n",
    "model_dbow = gensim.models.Doc2Vec(min_count=1, \n",
    "                                   window=10, \n",
    "                                   size=size, \n",
    "                                   sample=1e-3, \n",
    "                                   negative=5, \n",
    "                                   dm=0, \n",
    "                                   workers=3)\n",
    "\n",
    "model_dm.build_vocab(X_train + X_val)\n",
    "model_dbow.build_vocab(X_train + X_val)"
   ]
  },
  {
   "cell_type": "code",
   "execution_count": 11,
   "metadata": {},
   "outputs": [],
   "source": [
    "model_dm.train(X_train, total_examples = len(X_train), epochs=20)\n",
    "model_dbow.train(X_train, total_examples = len(X_train), epochs=20)"
   ]
  },
  {
   "cell_type": "code",
   "execution_count": 12,
   "metadata": {},
   "outputs": [
    {
     "data": {
      "text/plain": [
       "((8062, 300), (8062, 300))"
      ]
     },
     "execution_count": 12,
     "metadata": {},
     "output_type": "execute_result"
    }
   ],
   "source": [
    "# get vectors\n",
    "def get_vecs(model, corpus, size):\n",
    "    vecs = [np.array(model[z.tags[0]]).reshape((1, size)) for z in corpus]\n",
    "    return np.concatenate(vecs)\n",
    "\n",
    "train_vecs_dm = get_vecs(model_dm, X_train, size)\n",
    "train_vecs_dbow = get_vecs(model_dbow, X_train, size)\n",
    "\n",
    "train_vecs_dm.shape, train_vecs_dbow.shape"
   ]
  },
  {
   "cell_type": "code",
   "execution_count": 13,
   "metadata": {},
   "outputs": [
    {
     "data": {
      "text/plain": [
       "(8062, 600)"
      ]
     },
     "execution_count": 13,
     "metadata": {},
     "output_type": "execute_result"
    }
   ],
   "source": [
    "train_vecs = np.hstack((train_vecs_dm, train_vecs_dbow))\n",
    "train_vecs.shape"
   ]
  },
  {
   "cell_type": "code",
   "execution_count": 14,
   "metadata": {},
   "outputs": [
    {
     "data": {
      "text/plain": [
       "(1000, 600)"
      ]
     },
     "execution_count": 14,
     "metadata": {},
     "output_type": "execute_result"
    }
   ],
   "source": [
    "#train over validation set\n",
    "\n",
    "model_dm.train(X_val, total_examples = len(X_val), epochs=10)\n",
    "model_dbow.train(X_val, total_examples = len(X_val), epochs=10)\n",
    "\n",
    "val_vecs_dm = get_vecs(model_dm, X_val, size)\n",
    "val_vecs_dbow = get_vecs(model_dbow, X_val, size)\n",
    "\n",
    "val_vecs = np.hstack((val_vecs_dm, val_vecs_dbow))\n",
    "\n",
    "val_vecs.shape"
   ]
  },
  {
   "cell_type": "code",
   "execution_count": 15,
   "metadata": {
    "scrolled": true
   },
   "outputs": [
    {
     "name": "stdout",
     "output_type": "stream",
     "text": [
      "Iteration 1, loss = 1.19042340\n",
      "Iteration 2, loss = 0.10059642\n",
      "Iteration 3, loss = 0.07918834\n",
      "Iteration 4, loss = 0.07400538\n",
      "Iteration 5, loss = 0.07133529\n",
      "Iteration 6, loss = 0.06957260\n",
      "Iteration 7, loss = 0.06825221\n",
      "Iteration 8, loss = 0.06713577\n",
      "Iteration 9, loss = 0.06631112\n",
      "Iteration 10, loss = 0.06552484\n",
      "Iteration 11, loss = 0.06487371\n",
      "Iteration 12, loss = 0.06429280\n",
      "Iteration 13, loss = 0.06377826\n",
      "Iteration 14, loss = 0.06339178\n",
      "Iteration 15, loss = 0.06291559\n",
      "Iteration 16, loss = 0.06257568\n",
      "Iteration 17, loss = 0.06225018\n",
      "Iteration 18, loss = 0.06194452\n",
      "Iteration 19, loss = 0.06168005\n",
      "Iteration 20, loss = 0.06135205\n",
      "Iteration 21, loss = 0.06116336\n",
      "Iteration 22, loss = 0.06093154\n",
      "Iteration 23, loss = 0.06064608\n",
      "Iteration 24, loss = 0.06048815\n",
      "Iteration 25, loss = 0.06029817\n",
      "Iteration 26, loss = 0.06008941\n",
      "Iteration 27, loss = 0.05992652\n",
      "Iteration 28, loss = 0.05977774\n",
      "Iteration 29, loss = 0.05959010\n",
      "Iteration 30, loss = 0.05949348\n",
      "Iteration 31, loss = 0.05935888\n",
      "Iteration 32, loss = 0.05922901\n",
      "Iteration 33, loss = 0.05906566\n",
      "Iteration 34, loss = 0.05896558\n",
      "Iteration 35, loss = 0.05886548\n",
      "Iteration 36, loss = 0.05871060\n",
      "Iteration 37, loss = 0.05863450\n",
      "Iteration 38, loss = 0.05850890\n",
      "Iteration 39, loss = 0.05838173\n",
      "Iteration 40, loss = 0.05828515\n",
      "Iteration 41, loss = 0.05825855\n",
      "Iteration 42, loss = 0.05811464\n",
      "Iteration 43, loss = 0.05801439\n",
      "Iteration 44, loss = 0.05794961\n",
      "Iteration 45, loss = 0.05788112\n",
      "Iteration 46, loss = 0.05778839\n",
      "Iteration 47, loss = 0.05769248\n",
      "Iteration 48, loss = 0.05760539\n",
      "Iteration 49, loss = 0.05758272\n",
      "Iteration 50, loss = 0.05751120\n",
      "Iteration 51, loss = 0.05742780\n",
      "Iteration 52, loss = 0.05739708\n",
      "Iteration 53, loss = 0.05730024\n",
      "Iteration 54, loss = 0.05727570\n",
      "Iteration 55, loss = 0.05714142\n",
      "Iteration 56, loss = 0.05709305\n",
      "Iteration 57, loss = 0.05700378\n",
      "Iteration 58, loss = 0.05699294\n",
      "Iteration 59, loss = 0.05691355\n",
      "Iteration 60, loss = 0.05686536\n",
      "Iteration 61, loss = 0.05676937\n",
      "Iteration 62, loss = 0.05674525\n",
      "Iteration 63, loss = 0.05673076\n",
      "Iteration 64, loss = 0.05667457\n",
      "Iteration 65, loss = 0.05662875\n",
      "Iteration 66, loss = 0.05659729\n",
      "Iteration 67, loss = 0.05655598\n",
      "Iteration 68, loss = 0.05645792\n",
      "Iteration 69, loss = 0.05648549\n",
      "Iteration 70, loss = 0.05634031\n",
      "Iteration 71, loss = 0.05636919\n",
      "Iteration 72, loss = 0.05627385\n",
      "Iteration 73, loss = 0.05623032\n",
      "Iteration 74, loss = 0.05621867\n",
      "Iteration 75, loss = 0.05615166\n",
      "Iteration 76, loss = 0.05612018\n",
      "Iteration 77, loss = 0.05606973\n",
      "Iteration 78, loss = 0.05604650\n",
      "Iteration 79, loss = 0.05597870\n",
      "Iteration 80, loss = 0.05595355\n",
      "Iteration 81, loss = 0.05593021\n",
      "Iteration 82, loss = 0.05588239\n",
      "Iteration 83, loss = 0.05583847\n",
      "Iteration 84, loss = 0.05581458\n",
      "Iteration 85, loss = 0.05575202\n",
      "Iteration 86, loss = 0.05573993\n",
      "Iteration 87, loss = 0.05568668\n",
      "Iteration 88, loss = 0.05563813\n",
      "Iteration 89, loss = 0.05561709\n",
      "Iteration 90, loss = 0.05562137\n",
      "Iteration 91, loss = 0.05557013\n",
      "Iteration 92, loss = 0.05550641\n",
      "Iteration 93, loss = 0.05551169\n",
      "Iteration 94, loss = 0.05545902\n",
      "Iteration 95, loss = 0.05541119\n",
      "Iteration 96, loss = 0.05540320\n",
      "Iteration 97, loss = 0.05533740\n",
      "Iteration 98, loss = 0.05532875\n",
      "Iteration 99, loss = 0.05529707\n",
      "Iteration 100, loss = 0.05526013\n",
      "Iteration 101, loss = 0.05522080\n",
      "Iteration 102, loss = 0.05520571\n",
      "Iteration 103, loss = 0.05518125\n",
      "Iteration 104, loss = 0.05511409\n",
      "Iteration 105, loss = 0.05511236\n",
      "Iteration 106, loss = 0.05513602\n",
      "Iteration 107, loss = 0.05504100\n",
      "Iteration 108, loss = 0.05505263\n",
      "Iteration 109, loss = 0.05502232\n",
      "Iteration 110, loss = 0.05499043\n",
      "Iteration 111, loss = 0.05493476\n",
      "Iteration 112, loss = 0.05491718\n",
      "Iteration 113, loss = 0.05487308\n",
      "Iteration 114, loss = 0.05493028\n",
      "Iteration 115, loss = 0.05482139\n",
      "Iteration 116, loss = 0.05483464\n",
      "Iteration 117, loss = 0.05477960\n",
      "Iteration 118, loss = 0.05477338\n",
      "Iteration 119, loss = 0.05474030\n",
      "Iteration 120, loss = 0.05471157\n",
      "Iteration 121, loss = 0.05470512\n",
      "Iteration 122, loss = 0.05466593\n",
      "Iteration 123, loss = 0.05461637\n",
      "Iteration 124, loss = 0.05463349\n",
      "Iteration 125, loss = 0.05457853\n",
      "Iteration 126, loss = 0.05452988\n",
      "Iteration 127, loss = 0.05452121\n",
      "Iteration 128, loss = 0.05449915\n",
      "Iteration 129, loss = 0.05448130\n",
      "Iteration 130, loss = 0.05445309\n",
      "Iteration 131, loss = 0.05449194\n",
      "Iteration 132, loss = 0.05443602\n",
      "Iteration 133, loss = 0.05440781\n",
      "Iteration 134, loss = 0.05437103\n",
      "Iteration 135, loss = 0.05434900\n",
      "Iteration 136, loss = 0.05434791\n",
      "Iteration 137, loss = 0.05430072\n",
      "Iteration 138, loss = 0.05429486\n",
      "Iteration 139, loss = 0.05426623\n",
      "Iteration 140, loss = 0.05425407\n",
      "Iteration 141, loss = 0.05419658\n",
      "Iteration 142, loss = 0.05424249\n",
      "Iteration 143, loss = 0.05422075\n",
      "Iteration 144, loss = 0.05417538\n",
      "Iteration 145, loss = 0.05413248\n",
      "Iteration 146, loss = 0.05410644\n",
      "Iteration 147, loss = 0.05408641\n",
      "Iteration 148, loss = 0.05404322\n",
      "Iteration 149, loss = 0.05404272\n",
      "Iteration 150, loss = 0.05403107\n",
      "Iteration 151, loss = 0.05405254\n",
      "Iteration 152, loss = 0.05397459\n",
      "Iteration 153, loss = 0.05394982\n",
      "Iteration 154, loss = 0.05393433\n",
      "Iteration 155, loss = 0.05389203\n",
      "Iteration 156, loss = 0.05393149\n",
      "Iteration 157, loss = 0.05386845\n",
      "Iteration 158, loss = 0.05385675\n",
      "Iteration 159, loss = 0.05388434\n",
      "Iteration 160, loss = 0.05379147\n",
      "Iteration 161, loss = 0.05376497\n",
      "Iteration 162, loss = 0.05377180\n",
      "Iteration 163, loss = 0.05374913\n",
      "Iteration 164, loss = 0.05370529\n",
      "Iteration 165, loss = 0.05370506\n",
      "Iteration 166, loss = 0.05369977\n",
      "Iteration 167, loss = 0.05366513\n",
      "Iteration 168, loss = 0.05364366\n",
      "Iteration 169, loss = 0.05363177\n",
      "Iteration 170, loss = 0.05357618\n",
      "Iteration 171, loss = 0.05358139\n",
      "Iteration 172, loss = 0.05355903\n",
      "Iteration 173, loss = 0.05355595\n",
      "Iteration 174, loss = 0.05353840\n",
      "Iteration 175, loss = 0.05355177\n",
      "Iteration 176, loss = 0.05349464\n",
      "Iteration 177, loss = 0.05348646\n",
      "Iteration 178, loss = 0.05346603\n",
      "Iteration 179, loss = 0.05343842\n",
      "Iteration 180, loss = 0.05343686\n",
      "Iteration 181, loss = 0.05339352\n",
      "Iteration 182, loss = 0.05338007\n",
      "Iteration 183, loss = 0.05336505\n",
      "Iteration 184, loss = 0.05336501\n",
      "Iteration 185, loss = 0.05327717\n",
      "Iteration 186, loss = 0.05333629\n",
      "Iteration 187, loss = 0.05332073\n",
      "Iteration 188, loss = 0.05324167\n",
      "Iteration 189, loss = 0.05332278\n",
      "Iteration 190, loss = 0.05322219\n",
      "Iteration 191, loss = 0.05325381\n",
      "Iteration 192, loss = 0.05319114\n",
      "Iteration 193, loss = 0.05319372\n",
      "Iteration 194, loss = 0.05315993\n",
      "Iteration 195, loss = 0.05311773\n",
      "Iteration 196, loss = 0.05313162\n",
      "Iteration 197, loss = 0.05308523\n",
      "Iteration 198, loss = 0.05312633\n",
      "Iteration 199, loss = 0.05304952\n",
      "Iteration 200, loss = 0.05303774\n",
      "Iteration 201, loss = 0.05301120\n",
      "Iteration 202, loss = 0.05306175\n",
      "Iteration 203, loss = 0.05304123\n",
      "Iteration 204, loss = 0.05305450\n",
      "Iteration 205, loss = 0.05296175\n",
      "Iteration 206, loss = 0.05292833\n",
      "Iteration 207, loss = 0.05295832\n",
      "Iteration 208, loss = 0.05289453\n",
      "Iteration 209, loss = 0.05292490\n",
      "Iteration 210, loss = 0.05282165\n",
      "Iteration 211, loss = 0.05288337\n",
      "Iteration 212, loss = 0.05290352\n",
      "Iteration 213, loss = 0.05281983\n",
      "Iteration 214, loss = 0.05280751\n",
      "Iteration 215, loss = 0.05277348\n",
      "Iteration 216, loss = 0.05276227\n",
      "Iteration 217, loss = 0.05280997\n",
      "Iteration 218, loss = 0.05275395\n",
      "Iteration 219, loss = 0.05277115\n",
      "Iteration 220, loss = 0.05272556\n",
      "Iteration 221, loss = 0.05270702\n",
      "Iteration 222, loss = 0.05266006\n",
      "Iteration 223, loss = 0.05268653\n",
      "Iteration 224, loss = 0.05265011\n",
      "Iteration 225, loss = 0.05263087\n",
      "Iteration 226, loss = 0.05259727\n",
      "Iteration 227, loss = 0.05263317\n",
      "Iteration 228, loss = 0.05258425\n",
      "Iteration 229, loss = 0.05261407\n",
      "Iteration 230, loss = 0.05253971\n",
      "Iteration 231, loss = 0.05254239\n",
      "Iteration 232, loss = 0.05251411\n",
      "Iteration 233, loss = 0.05249109\n",
      "Iteration 234, loss = 0.05260218\n",
      "Iteration 235, loss = 0.05244101\n",
      "Iteration 236, loss = 0.05243019\n",
      "Iteration 237, loss = 0.05241557\n",
      "Iteration 238, loss = 0.05239469\n",
      "Iteration 239, loss = 0.05239740\n",
      "Iteration 240, loss = 0.05239492\n",
      "Iteration 241, loss = 0.05241296\n",
      "Iteration 242, loss = 0.05235021\n",
      "Iteration 243, loss = 0.05231732\n",
      "Iteration 244, loss = 0.05231033\n",
      "Iteration 245, loss = 0.05234305\n",
      "Iteration 246, loss = 0.05231907\n",
      "Iteration 247, loss = 0.05229325\n",
      "Iteration 248, loss = 0.05225181\n",
      "Iteration 249, loss = 0.05227537\n",
      "Iteration 250, loss = 0.05223150\n",
      "Iteration 251, loss = 0.05219159\n",
      "Iteration 252, loss = 0.05215389\n"
     ]
    },
    {
     "name": "stdout",
     "output_type": "stream",
     "text": [
      "Iteration 253, loss = 0.05212418\n",
      "Iteration 254, loss = 0.05215188\n",
      "Iteration 255, loss = 0.05213667\n",
      "Iteration 256, loss = 0.05212697\n",
      "Iteration 257, loss = 0.05211070\n",
      "Iteration 258, loss = 0.05211096\n",
      "Iteration 259, loss = 0.05210816\n",
      "Iteration 260, loss = 0.05207015\n",
      "Iteration 261, loss = 0.05205240\n",
      "Iteration 262, loss = 0.05202120\n",
      "Iteration 263, loss = 0.05202800\n",
      "Iteration 264, loss = 0.05209309\n",
      "Iteration 265, loss = 0.05196930\n",
      "Iteration 266, loss = 0.05192969\n",
      "Iteration 267, loss = 0.05194390\n",
      "Iteration 268, loss = 0.05195953\n",
      "Iteration 269, loss = 0.05190171\n",
      "Iteration 270, loss = 0.05192863\n",
      "Iteration 271, loss = 0.05187116\n",
      "Iteration 272, loss = 0.05186082\n",
      "Iteration 273, loss = 0.05187096\n",
      "Iteration 274, loss = 0.05189519\n",
      "Iteration 275, loss = 0.05182198\n",
      "Iteration 276, loss = 0.05180124\n",
      "Iteration 277, loss = 0.05175636\n",
      "Iteration 278, loss = 0.05175903\n",
      "Iteration 279, loss = 0.05176512\n",
      "Iteration 280, loss = 0.05173803\n",
      "Iteration 281, loss = 0.05169847\n",
      "Iteration 282, loss = 0.05170473\n",
      "Iteration 283, loss = 0.05165617\n",
      "Iteration 284, loss = 0.05174771\n",
      "Iteration 285, loss = 0.05164981\n",
      "Iteration 286, loss = 0.05163214\n",
      "Iteration 287, loss = 0.05165638\n",
      "Iteration 288, loss = 0.05164316\n",
      "Iteration 289, loss = 0.05160181\n",
      "Iteration 290, loss = 0.05160799\n",
      "Iteration 291, loss = 0.05160275\n",
      "Iteration 292, loss = 0.05154369\n",
      "Iteration 293, loss = 0.05157388\n",
      "Iteration 294, loss = 0.05147624\n",
      "Iteration 295, loss = 0.05153663\n",
      "Iteration 296, loss = 0.05147339\n",
      "Iteration 297, loss = 0.05149934\n",
      "Iteration 298, loss = 0.05148370\n",
      "Iteration 299, loss = 0.05140494\n",
      "Iteration 300, loss = 0.05146233\n",
      "Iteration 301, loss = 0.05142961\n",
      "Iteration 302, loss = 0.05142303\n",
      "Iteration 303, loss = 0.05137807\n",
      "Iteration 304, loss = 0.05137703\n",
      "Iteration 305, loss = 0.05134636\n",
      "Iteration 306, loss = 0.05135919\n",
      "Iteration 307, loss = 0.05131956\n",
      "Iteration 308, loss = 0.05132016\n",
      "Iteration 309, loss = 0.05126210\n",
      "Iteration 310, loss = 0.05126317\n",
      "Iteration 311, loss = 0.05124137\n",
      "Iteration 312, loss = 0.05127048\n",
      "Iteration 313, loss = 0.05119667\n",
      "Iteration 314, loss = 0.05124491\n",
      "Iteration 315, loss = 0.05119415\n",
      "Iteration 316, loss = 0.05118931\n",
      "Iteration 317, loss = 0.05115497\n",
      "Iteration 318, loss = 0.05114022\n",
      "Iteration 319, loss = 0.05111751\n",
      "Iteration 320, loss = 0.05111890\n",
      "Iteration 321, loss = 0.05106669\n",
      "Iteration 322, loss = 0.05109375\n",
      "Iteration 323, loss = 0.05106454\n",
      "Iteration 324, loss = 0.05108682\n",
      "Iteration 325, loss = 0.05108191\n",
      "Iteration 326, loss = 0.05105441\n",
      "Iteration 327, loss = 0.05101472\n",
      "Iteration 328, loss = 0.05098342\n",
      "Iteration 329, loss = 0.05104347\n",
      "Iteration 330, loss = 0.05101912\n",
      "Iteration 331, loss = 0.05096529\n",
      "Iteration 332, loss = 0.05100951\n",
      "Iteration 333, loss = 0.05090251\n",
      "Iteration 334, loss = 0.05091216\n",
      "Iteration 335, loss = 0.05085721\n",
      "Iteration 336, loss = 0.05084832\n",
      "Iteration 337, loss = 0.05096112\n",
      "Iteration 338, loss = 0.05083417\n",
      "Iteration 339, loss = 0.05082049\n",
      "Iteration 340, loss = 0.05082758\n",
      "Iteration 341, loss = 0.05077794\n",
      "Iteration 342, loss = 0.05079899\n",
      "Iteration 343, loss = 0.05078020\n",
      "Iteration 344, loss = 0.05077870\n",
      "Iteration 345, loss = 0.05079796\n",
      "Iteration 346, loss = 0.05074680\n",
      "Iteration 347, loss = 0.05074992\n",
      "Iteration 348, loss = 0.05071620\n",
      "Iteration 349, loss = 0.05063156\n",
      "Iteration 350, loss = 0.05072085\n",
      "Iteration 351, loss = 0.05063746\n",
      "Iteration 352, loss = 0.05063868\n",
      "Iteration 353, loss = 0.05059767\n",
      "Iteration 354, loss = 0.05056450\n",
      "Iteration 355, loss = 0.05056625\n",
      "Iteration 356, loss = 0.05057126\n",
      "Iteration 357, loss = 0.05056461\n",
      "Iteration 358, loss = 0.05057505\n",
      "Iteration 359, loss = 0.05054227\n",
      "Iteration 360, loss = 0.05050396\n",
      "Iteration 361, loss = 0.05046639\n",
      "Iteration 362, loss = 0.05047309\n",
      "Iteration 363, loss = 0.05043234\n",
      "Iteration 364, loss = 0.05047214\n",
      "Iteration 365, loss = 0.05048569\n",
      "Iteration 366, loss = 0.05043872\n",
      "Iteration 367, loss = 0.05040742\n",
      "Iteration 368, loss = 0.05039937\n",
      "Iteration 369, loss = 0.05035562\n",
      "Iteration 370, loss = 0.05039738\n",
      "Iteration 371, loss = 0.05033010\n",
      "Iteration 372, loss = 0.05030226\n",
      "Iteration 373, loss = 0.05031620\n",
      "Iteration 374, loss = 0.05027021\n",
      "Iteration 375, loss = 0.05029679\n",
      "Iteration 376, loss = 0.05022999\n",
      "Iteration 377, loss = 0.05027952\n",
      "Iteration 378, loss = 0.05024076\n",
      "Iteration 379, loss = 0.05019540\n",
      "Iteration 380, loss = 0.05019045\n",
      "Iteration 381, loss = 0.05025172\n",
      "Iteration 382, loss = 0.05021029\n",
      "Iteration 383, loss = 0.05015343\n",
      "Iteration 384, loss = 0.05012857\n",
      "Iteration 385, loss = 0.05014408\n",
      "Iteration 386, loss = 0.05013147\n",
      "Iteration 387, loss = 0.05008658\n",
      "Iteration 388, loss = 0.05007981\n",
      "Iteration 389, loss = 0.05002557\n",
      "Iteration 390, loss = 0.05005985\n",
      "Iteration 391, loss = 0.05000719\n",
      "Iteration 392, loss = 0.05005255\n",
      "Iteration 393, loss = 0.04997734\n",
      "Iteration 394, loss = 0.05000621\n",
      "Iteration 395, loss = 0.04994594\n",
      "Iteration 396, loss = 0.04998123\n",
      "Iteration 397, loss = 0.04997944\n",
      "Iteration 398, loss = 0.04997284\n",
      "Iteration 399, loss = 0.04991915\n",
      "Iteration 400, loss = 0.04986285\n"
     ]
    },
    {
     "name": "stderr",
     "output_type": "stream",
     "text": [
      "/usr/local/lib/python3.6/dist-packages/sklearn/neural_network/_multilayer_perceptron.py:571: ConvergenceWarning: Stochastic Optimizer: Maximum iterations (400) reached and the optimization hasn't converged yet.\n",
      "  % self.max_iter, ConvergenceWarning)\n"
     ]
    },
    {
     "name": "stdout",
     "output_type": "stream",
     "text": [
      "0.1896115183493875\n",
      "-0.22120456226790397\n"
     ]
    }
   ],
   "source": [
    "regr = MLPRegressor(hidden_layer_sizes=(100, 100, 100, 10), max_iter=400, alpha=1e-4, learning_rate_init=0.001, verbose=True, tol=0.00001, solver='sgd', activation=\"tanh\")\n",
    "\n",
    "scaler = StandardScaler()\n",
    "scaler.fit(train_vecs)\n",
    "\n",
    "train_vecs = scaler.transform(train_vecs)\n",
    "val_vecs = scaler.transform(val_vecs)\n",
    "\n",
    "pca = PCA(.95)\n",
    "pca.fit(train_vecs)\n",
    "\n",
    "train_vecs = pca.transform(train_vecs)\n",
    "val_vecs = pca.transform(val_vecs)\n",
    "\n",
    "regr.fit(train_vecs, y_train)\n",
    "\n",
    "print(regr.score(train_vecs, y_train))\n",
    "print(regr.score(val_vecs, y_val))"
   ]
  },
  {
   "cell_type": "code",
   "execution_count": 16,
   "metadata": {},
   "outputs": [
    {
     "data": {
      "text/plain": [
       "<matplotlib.axes._subplots.AxesSubplot at 0x7fd46ffc1dd8>"
      ]
     },
     "execution_count": 16,
     "metadata": {},
     "output_type": "execute_result"
    },
    {
     "data": {
      "image/png": "[encoded data removed]",
      "text/plain": [
       "<Figure size 432x288 with 1 Axes>"
      ]
     },
     "metadata": {
      "needs_background": "light"
     },
     "output_type": "display_data"
    }
   ],
   "source": [
    "pd.DataFrame(regr.loss_curve_).plot()"
   ]
  },
  {
   "cell_type": "code",
   "execution_count": 17,
   "metadata": {},
   "outputs": [
    {
     "name": "stdout",
     "output_type": "stream",
     "text": [
      "[3.17066385] LabeledSentence(['she', 'tells', 'me', 'that', 'the', '3', ',', '666', 'people', 'we', 'helped', 'find', 'jobs', 'in', '1998', 'earned', 'approximately', '$49', 'million', 'dollars', '.'], ['DEV_1']) 3.7\n"
     ]
    }
   ],
   "source": [
    "n = 1\n",
    "print(regr.predict([val_vecs[n]]), X_val[n], y_val.iloc[n])"
   ]
  },
  {
   "cell_type": "code",
   "execution_count": 18,
   "metadata": {},
   "outputs": [
    {
     "name": "stdout",
     "output_type": "stream",
     "text": [
      "0.049862851902483685\n",
      "0.14096701119324873\n"
     ]
    }
   ],
   "source": [
    "print(regr.loss_)\n",
    "\n",
    "y_pred = regr.predict(val_vecs)\n",
    "\n",
    "print(metrics.mean_squared_error(y_val, y_pred))"
   ]
  },
  {
   "cell_type": "code",
   "execution_count": 19,
   "metadata": {},
   "outputs": [
    {
     "data": {
      "text/plain": [
       "Text(0, 0.5, 'y pred')"
      ]
     },
     "execution_count": 19,
     "metadata": {},
     "output_type": "execute_result"
    },
    {
     "data": {
      "image/png": "[encoded data removed]",
      "text/plain": [
       "<Figure size 432x288 with 1 Axes>"
      ]
     },
     "metadata": {
      "needs_background": "light"
     },
     "output_type": "display_data"
    }
   ],
   "source": [
    "y_pred = regr.predict(val_vecs)\n",
    "plt.scatter(y_val, y_pred, c=\"orange\", label=\"MLP-regressor\", marker=\".\")\n",
    "plt.xlabel(\"y train\")\n",
    "plt.ylabel(\"y pred\")"
   ]
  },
  {
   "cell_type": "code",
   "execution_count": 20,
   "metadata": {},
   "outputs": [
    {
     "name": "stdout",
     "output_type": "stream",
     "text": [
      "0.044815763138410625\n",
      "-0.027001250115908926\n"
     ]
    }
   ],
   "source": [
    "# Linear Regression\n",
    "reg = LinearRegression(normalize=True).fit(train_vecs, y_train)\n",
    "\n",
    "print(reg.score(train_vecs, y_train))\n",
    "print(reg.score(val_vecs, y_val))"
   ]
  },
  {
   "cell_type": "code",
   "execution_count": 21,
   "metadata": {},
   "outputs": [
    {
     "data": {
      "text/plain": [
       "<matplotlib.axes._subplots.AxesSubplot at 0x7fd46ff2a898>"
      ]
     },
     "execution_count": 21,
     "metadata": {},
     "output_type": "execute_result"
    },
    {
     "data": {
      "image/png": "[encoded data removed]",
      "text/plain": [
       "<Figure size 432x288 with 1 Axes>"
      ]
     },
     "metadata": {
      "needs_background": "light"
     },
     "output_type": "display_data"
    }
   ],
   "source": [
    "# Density curve of y_val\n",
    "y_val.plot(kind='density', xticks = [i/2 for i in range(12)])"
   ]
  },
  {
   "cell_type": "code",
   "execution_count": 22,
   "metadata": {},
   "outputs": [
    {
     "data": {
      "text/plain": [
       "(array([ 13.,  24.,  48., 109., 186., 415., 140.,  38.,  14.,  13.]),\n",
       " array([1.8  , 2.031, 2.262, 2.493, 2.724, 2.955, 3.186, 3.417, 3.648,\n",
       "        3.879, 4.11 ]),\n",
       " <a list of 10 Patch objects>)"
      ]
     },
     "execution_count": 22,
     "metadata": {},
     "output_type": "execute_result"
    },
    {
     "data": {
      "image/png": "[encoded data removed]",
      "text/plain": [
       "<Figure size 432x288 with 1 Axes>"
      ]
     },
     "metadata": {
      "needs_background": "light"
     },
     "output_type": "display_data"
    }
   ],
   "source": [
    "# Histogram of y_val\n",
    "plt.hist(y_val, label=\"y_actual_value\")"
   ]
  },
  {
   "cell_type": "code",
   "execution_count": 23,
   "metadata": {},
   "outputs": [
    {
     "name": "stdout",
     "output_type": "stream",
     "text": [
      "0.26881840595058437\n",
      "-0.08082852849335431\n"
     ]
    }
   ],
   "source": [
    "# SVR\n",
    "svr_reg = make_pipeline(StandardScaler(), SVR(kernel=\"rbf\", C=1.0, epsilon=0.2))\n",
    "svr_reg.fit(train_vecs, y_train)\n",
    "\n",
    "print(svr_reg.score(train_vecs, y_train))\n",
    "print(svr_reg.score(val_vecs, y_val))"
   ]
  },
  {
   "cell_type": "code",
   "execution_count": 24,
   "metadata": {},
   "outputs": [
    {
     "data": {
      "text/plain": [
       "Text(0, 0.5, 'y pred')"
      ]
     },
     "execution_count": 24,
     "metadata": {},
     "output_type": "execute_result"
    },
    {
     "data": {
      "image/png": "[encoded data removed]",
      "text/plain": [
       "<Figure size 432x288 with 1 Axes>"
      ]
     },
     "metadata": {
      "needs_background": "light"
     },
     "output_type": "display_data"
    }
   ],
   "source": [
    "svr_y_pred = svr_reg.predict(val_vecs)\n",
    "plt.scatter(y_val, svr_y_pred, c=\"orange\", label=\"MLP-regressor\", marker=\".\")\n",
    "plt.xlabel(\"y train\")\n",
    "plt.ylabel(\"y pred\")"
   ]
  },
  {
   "cell_type": "code",
   "execution_count": 25,
   "metadata": {},
   "outputs": [
    {
     "name": "stdout",
     "output_type": "stream",
     "text": [
      "0.1247630184014009\n"
     ]
    }
   ],
   "source": [
    "print(metrics.mean_squared_error(y_val, svr_y_pred))"
   ]
  },
  {
   "cell_type": "code",
   "execution_count": 26,
   "metadata": {},
   "outputs": [
    {
     "name": "stdout",
     "output_type": "stream",
     "text": [
      "0.26881840595058437\n",
      "-0.08082852849335431\n"
     ]
    },
    {
     "data": {
      "text/plain": [
       "Text(0, 0.5, 'y pred')"
      ]
     },
     "execution_count": 26,
     "metadata": {},
     "output_type": "execute_result"
    },
    {
     "data": {
      "image/png": "[encoded data removed]",
      "text/plain": [
       "<Figure size 432x288 with 1 Axes>"
      ]
     },
     "metadata": {
      "needs_background": "light"
     },
     "output_type": "display_data"
    }
   ],
   "source": [
    "from sklearn.svm import NuSVR\n",
    "\n",
    "nu_svr_reg = make_pipeline(StandardScaler(), NuSVR(C=1.0, nu=0.1))\n",
    "nu_svr_reg.fit(train_vecs, y_train)\n",
    "\n",
    "print(svr_reg.score(train_vecs, y_train))\n",
    "print(svr_reg.score(val_vecs, y_val))\n",
    "\n",
    "nu_svr_y_pred = svr_reg.predict(val_vecs)\n",
    "plt.scatter(y_val, nu_svr_y_pred, c=\"orange\", label=\"MLP-regressor\", marker=\".\")\n",
    "plt.xlabel(\"y train\")\n",
    "plt.ylabel(\"y pred\")"
   ]
  },
  {
   "cell_type": "code",
   "execution_count": 27,
   "metadata": {},
   "outputs": [
    {
     "name": "stdout",
     "output_type": "stream",
     "text": [
      "0.1247630184014009\n"
     ]
    }
   ],
   "source": [
    "print(metrics.mean_squared_error(y_val, nu_svr_y_pred))"
   ]
  },
  {
   "cell_type": "code",
   "execution_count": null,
   "metadata": {},
   "outputs": [],
   "source": []
  }
 ],
 "metadata": {
  "kernelspec": {
   "display_name": "Python 3",
   "language": "python",
   "name": "python3"
  },
  "language_info": {
   "codemirror_mode": {
    "name": "ipython",
    "version": 3
   },
   "file_extension": ".py",
   "mimetype": "text/x-python",
   "name": "python",
   "nbconvert_exporter": "python",
   "pygments_lexer": "ipython3",
   "version": "3.6.10"
  }
 },
 "nbformat": 4,
 "nbformat_minor": 4
}
