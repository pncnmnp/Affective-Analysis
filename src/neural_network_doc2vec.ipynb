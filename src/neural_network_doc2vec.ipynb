{
 "cells": [
  {
   "cell_type": "code",
   "execution_count": 1,
   "metadata": {},
   "outputs": [],
   "source": [
    "import gensim\n",
    "import pandas as pd\n",
    "import numpy as np\n",
    "\n",
    "from matplotlib import pyplot as plt\n",
    "\n",
    "from sklearn.neural_network import MLPRegressor\n",
    "from sklearn import metrics\n",
    "\n",
    "from sklearn.decomposition import PCA\n",
    "\n",
    "from sklearn.linear_model import LinearRegression\n",
    "\n",
    "from sklearn.svm import SVR\n",
    "from sklearn.pipeline import make_pipeline\n",
    "from sklearn.preprocessing import StandardScaler"
   ]
  },
  {
   "cell_type": "code",
   "execution_count": 2,
   "metadata": {},
   "outputs": [
    {
     "data": {
      "text/html": [
       "<div>\n",
       "<style scoped>\n",
       "    .dataframe tbody tr th:only-of-type {\n",
       "        vertical-align: middle;\n",
       "    }\n",
       "\n",
       "    .dataframe tbody tr th {\n",
       "        vertical-align: top;\n",
       "    }\n",
       "\n",
       "    .dataframe thead th {\n",
       "        text-align: right;\n",
       "    }\n",
       "</style>\n",
       "<table border=\"1\" class=\"dataframe\">\n",
       "  <thead>\n",
       "    <tr style=\"text-align: right;\">\n",
       "      <th></th>\n",
       "      <th>V</th>\n",
       "      <th>A</th>\n",
       "      <th>D</th>\n",
       "    </tr>\n",
       "  </thead>\n",
       "  <tbody>\n",
       "    <tr>\n",
       "      <th>count</th>\n",
       "      <td>10062.000000</td>\n",
       "      <td>10062.000000</td>\n",
       "      <td>10062.000000</td>\n",
       "    </tr>\n",
       "    <tr>\n",
       "      <th>mean</th>\n",
       "      <td>2.976690</td>\n",
       "      <td>3.041785</td>\n",
       "      <td>3.062763</td>\n",
       "    </tr>\n",
       "    <tr>\n",
       "      <th>std</th>\n",
       "      <td>0.348715</td>\n",
       "      <td>0.259541</td>\n",
       "      <td>0.209675</td>\n",
       "    </tr>\n",
       "    <tr>\n",
       "      <th>min</th>\n",
       "      <td>1.200000</td>\n",
       "      <td>1.800000</td>\n",
       "      <td>1.780000</td>\n",
       "    </tr>\n",
       "    <tr>\n",
       "      <th>25%</th>\n",
       "      <td>2.800000</td>\n",
       "      <td>2.890000</td>\n",
       "      <td>3.000000</td>\n",
       "    </tr>\n",
       "    <tr>\n",
       "      <th>50%</th>\n",
       "      <td>3.000000</td>\n",
       "      <td>3.000000</td>\n",
       "      <td>3.090000</td>\n",
       "    </tr>\n",
       "    <tr>\n",
       "      <th>75%</th>\n",
       "      <td>3.120000</td>\n",
       "      <td>3.200000</td>\n",
       "      <td>3.200000</td>\n",
       "    </tr>\n",
       "    <tr>\n",
       "      <th>max</th>\n",
       "      <td>4.600000</td>\n",
       "      <td>4.400000</td>\n",
       "      <td>4.200000</td>\n",
       "    </tr>\n",
       "  </tbody>\n",
       "</table>\n",
       "</div>"
      ],
      "text/plain": [
       "                  V             A             D\n",
       "count  10062.000000  10062.000000  10062.000000\n",
       "mean       2.976690      3.041785      3.062763\n",
       "std        0.348715      0.259541      0.209675\n",
       "min        1.200000      1.800000      1.780000\n",
       "25%        2.800000      2.890000      3.000000\n",
       "50%        3.000000      3.000000      3.090000\n",
       "75%        3.120000      3.200000      3.200000\n",
       "max        4.600000      4.400000      4.200000"
      ]
     },
     "execution_count": 2,
     "metadata": {},
     "output_type": "execute_result"
    }
   ],
   "source": [
    "EMOBANK_CORPUS = \"../corpus/emobank.csv\"\n",
    "df = pd.read_csv(EMOBANK_CORPUS)\n",
    "df.describe()"
   ]
  },
  {
   "cell_type": "code",
   "execution_count": 3,
   "metadata": {},
   "outputs": [
    {
     "data": {
      "text/html": [
       "<div>\n",
       "<style scoped>\n",
       "    .dataframe tbody tr th:only-of-type {\n",
       "        vertical-align: middle;\n",
       "    }\n",
       "\n",
       "    .dataframe tbody tr th {\n",
       "        vertical-align: top;\n",
       "    }\n",
       "\n",
       "    .dataframe thead th {\n",
       "        text-align: right;\n",
       "    }\n",
       "</style>\n",
       "<table border=\"1\" class=\"dataframe\">\n",
       "  <thead>\n",
       "    <tr style=\"text-align: right;\">\n",
       "      <th></th>\n",
       "      <th>id</th>\n",
       "      <th>split</th>\n",
       "      <th>V</th>\n",
       "      <th>A</th>\n",
       "      <th>D</th>\n",
       "      <th>text</th>\n",
       "    </tr>\n",
       "  </thead>\n",
       "  <tbody>\n",
       "    <tr>\n",
       "      <th>0</th>\n",
       "      <td>110CYL068_1036_1079</td>\n",
       "      <td>train</td>\n",
       "      <td>3.00</td>\n",
       "      <td>3.00</td>\n",
       "      <td>3.20</td>\n",
       "      <td>Remember what she said in my last letter? \"</td>\n",
       "    </tr>\n",
       "    <tr>\n",
       "      <th>1</th>\n",
       "      <td>110CYL068_1079_1110</td>\n",
       "      <td>test</td>\n",
       "      <td>2.80</td>\n",
       "      <td>3.10</td>\n",
       "      <td>2.80</td>\n",
       "      <td>If I wasn't working here.</td>\n",
       "    </tr>\n",
       "    <tr>\n",
       "      <th>2</th>\n",
       "      <td>110CYL068_1127_1130</td>\n",
       "      <td>train</td>\n",
       "      <td>3.00</td>\n",
       "      <td>3.00</td>\n",
       "      <td>3.00</td>\n",
       "      <td>..\"</td>\n",
       "    </tr>\n",
       "    <tr>\n",
       "      <th>3</th>\n",
       "      <td>110CYL068_1137_1188</td>\n",
       "      <td>train</td>\n",
       "      <td>3.44</td>\n",
       "      <td>3.00</td>\n",
       "      <td>3.22</td>\n",
       "      <td>Goodwill helps people get off of public assist...</td>\n",
       "    </tr>\n",
       "    <tr>\n",
       "      <th>4</th>\n",
       "      <td>110CYL068_1189_1328</td>\n",
       "      <td>train</td>\n",
       "      <td>3.55</td>\n",
       "      <td>3.27</td>\n",
       "      <td>3.46</td>\n",
       "      <td>Sherry learned through our Future Works class ...</td>\n",
       "    </tr>\n",
       "  </tbody>\n",
       "</table>\n",
       "</div>"
      ],
      "text/plain": [
       "                    id  split     V     A     D  \\\n",
       "0  110CYL068_1036_1079  train  3.00  3.00  3.20   \n",
       "1  110CYL068_1079_1110   test  2.80  3.10  2.80   \n",
       "2  110CYL068_1127_1130  train  3.00  3.00  3.00   \n",
       "3  110CYL068_1137_1188  train  3.44  3.00  3.22   \n",
       "4  110CYL068_1189_1328  train  3.55  3.27  3.46   \n",
       "\n",
       "                                                text  \n",
       "0        Remember what she said in my last letter? \"  \n",
       "1                          If I wasn't working here.  \n",
       "2                                                ..\"  \n",
       "3  Goodwill helps people get off of public assist...  \n",
       "4  Sherry learned through our Future Works class ...  "
      ]
     },
     "execution_count": 3,
     "metadata": {},
     "output_type": "execute_result"
    }
   ],
   "source": [
    "# VAD has a decent distribution\n",
    "# Way better than 4000 short stories\n",
    "df.head()"
   ]
  },
  {
   "cell_type": "code",
   "execution_count": 4,
   "metadata": {},
   "outputs": [
    {
     "name": "stdout",
     "output_type": "stream",
     "text": [
      "Different splits are: {'test', 'train', 'dev'}\n"
     ]
    }
   ],
   "source": [
    "print(\"Different splits are: {}\".format(set(df[\"split\"].tolist())))"
   ]
  },
  {
   "cell_type": "code",
   "execution_count": 5,
   "metadata": {},
   "outputs": [
    {
     "data": {
      "text/plain": [
       "((8062, 6), (1000, 6), (1000, 6))"
      ]
     },
     "execution_count": 5,
     "metadata": {},
     "output_type": "execute_result"
    }
   ],
   "source": [
    "# Dividing into training, validation, and test set\n",
    "df_train = df[df[\"split\"] == \"train\"]\n",
    "df_val = df[df[\"split\"] == \"dev\"]\n",
    "df_test = df[df[\"split\"] == \"test\"]\n",
    "\n",
    "(df_train.shape, df_val.shape, df_test.shape)"
   ]
  },
  {
   "cell_type": "code",
   "execution_count": 6,
   "metadata": {},
   "outputs": [
    {
     "data": {
      "text/plain": [
       "((8062,), (8062,), (1000,), (1000,))"
      ]
     },
     "execution_count": 6,
     "metadata": {},
     "output_type": "execute_result"
    }
   ],
   "source": [
    "# Let us first train on Valence\n",
    "X_train = df_train[\"text\"]\n",
    "y_train = df_train[\"A\"]\n",
    "\n",
    "X_val = df_val[\"text\"]\n",
    "y_val = df_val[\"A\"]\n",
    "\n",
    "(X_train.shape, y_train.shape, X_val.shape, y_val.shape)"
   ]
  },
  {
   "cell_type": "code",
   "execution_count": 7,
   "metadata": {},
   "outputs": [],
   "source": [
    "# The shape can be a problem\n",
    "# Let us convert it into a Nx1 dimension\n",
    "\n",
    "# X_train = X_train.values.reshape(X_train.shape[0], 1)\n",
    "# y_train = y_train.values.reshape(y_train.shape[0], 1)\n",
    "\n",
    "# X_val = X_val.values.reshape(X_val.shape[0], 1)\n",
    "# y_val = y_val.values.reshape(y_val.shape[0], 1)\n",
    "\n",
    "# print(X_train.shape, y_train.shape, X_val.shape, y_val.shape)"
   ]
  },
  {
   "cell_type": "code",
   "execution_count": 8,
   "metadata": {
    "scrolled": false
   },
   "outputs": [
    {
     "name": "stdout",
     "output_type": "stream",
     "text": [
      "[['remember', 'what', 'she', 'said', 'in', 'my', 'last', 'letter', '?', '\"'], ['.', '.', '\"'], ['goodwill', 'helps', 'people', 'get', 'off', 'of', 'public', 'assistance', '.'], ['sherry', 'learned', 'through', 'our', 'future', 'works', 'class', 'that', 'she', 'could', 'rise', 'out', 'of', 'the', 'mire', 'of', 'the', 'welfare', 'system', 'and', 'support', 'her', 'family', '.'], ['coming', 'to', 'goodwill', 'was', 'the', 'first', 'step', 'toward', 'my', 'becoming', 'totally', 'independent', '.']]\n"
     ]
    }
   ],
   "source": [
    "# Much better!\n",
    "# Preprocessing text\n",
    "\n",
    "def clean_text(corpus):\n",
    "    punctuation = \"\"\"@.,?!:;(){}[]\"\"\"\n",
    "    corpus = [z.strip().lower().replace('\\n','') for z in corpus]\n",
    "    for c in punctuation:\n",
    "        # inserts whitespace on both sides of a punctuation\n",
    "        # so that in the next step it gets split\n",
    "        corpus = [z.replace(c, ' %s '%c) for z in corpus]\n",
    "    corpus = [z.split() for z in corpus]\n",
    "    return corpus\n",
    "\n",
    "X_train = clean_text(X_train)\n",
    "X_val = clean_text(X_val)\n",
    "\n",
    "print(X_train[:5])"
   ]
  },
  {
   "cell_type": "code",
   "execution_count": 9,
   "metadata": {},
   "outputs": [
    {
     "name": "stdout",
     "output_type": "stream",
     "text": [
      "[LabeledSentence(words=['remember', 'what', 'she', 'said', 'in', 'my', 'last', 'letter', '?', '\"'], tags=['TRAIN_0']), LabeledSentence(words=['.', '.', '\"'], tags=['TRAIN_1'])]\n"
     ]
    },
    {
     "name": "stderr",
     "output_type": "stream",
     "text": [
      "/home/parthparikh/.local/lib/python3.6/site-packages/ipykernel_launcher.py:9: DeprecationWarning: Call to deprecated `LabeledSentence` (Class will be removed in 4.0.0, use TaggedDocument instead).\n",
      "  if __name__ == '__main__':\n"
     ]
    }
   ],
   "source": [
    "# Labelizing h\n",
    "\n",
    "LabeledSentence = gensim.models.doc2vec.LabeledSentence\n",
    "\n",
    "def labelize(text, label_type):\n",
    "    labelized = []\n",
    "    for i, v in enumerate(text):\n",
    "        label = '%s_%s'%(label_type, i)\n",
    "        labelized.append(LabeledSentence(v, [label]))\n",
    "    return labelized\n",
    "\n",
    "X_train = labelize(X_train, 'TRAIN')\n",
    "X_val = labelize(X_val, 'DEV')\n",
    "\n",
    "print(X_train[:2])"
   ]
  },
  {
   "cell_type": "code",
   "execution_count": 10,
   "metadata": {},
   "outputs": [
    {
     "name": "stderr",
     "output_type": "stream",
     "text": [
      "/usr/local/lib/python3.6/dist-packages/gensim/models/doc2vec.py:574: UserWarning: The parameter `size` is deprecated, will be removed in 4.0.0, use `vector_size` instead.\n",
      "  warnings.warn(\"The parameter `size` is deprecated, will be removed in 4.0.0, use `vector_size` instead.\")\n"
     ]
    }
   ],
   "source": [
    "size = 300\n",
    "\n",
    "model_dm = gensim.models.Doc2Vec(min_count=1, \n",
    "                                 window=10, \n",
    "                                 size=size, \n",
    "                                 sample=1e-3, \n",
    "                                 negative=5, \n",
    "                                 workers=3)\n",
    "model_dbow = gensim.models.Doc2Vec(min_count=1, \n",
    "                                   window=10, \n",
    "                                   size=size, \n",
    "                                   sample=1e-3, \n",
    "                                   negative=5, \n",
    "                                   dm=0, \n",
    "                                   workers=3)\n",
    "\n",
    "model_dm.build_vocab(X_train + X_val)\n",
    "model_dbow.build_vocab(X_train + X_val)"
   ]
  },
  {
   "cell_type": "code",
   "execution_count": 11,
   "metadata": {},
   "outputs": [],
   "source": [
    "model_dm.train(X_train, total_examples = len(X_train), epochs=20)\n",
    "model_dbow.train(X_train, total_examples = len(X_train), epochs=20)"
   ]
  },
  {
   "cell_type": "code",
   "execution_count": 12,
   "metadata": {},
   "outputs": [
    {
     "data": {
      "text/plain": [
       "((8062, 300), (8062, 300))"
      ]
     },
     "execution_count": 12,
     "metadata": {},
     "output_type": "execute_result"
    }
   ],
   "source": [
    "# get vectors\n",
    "def get_vecs(model, corpus, size):\n",
    "    vecs = [np.array(model[z.tags[0]]).reshape((1, size)) for z in corpus]\n",
    "    return np.concatenate(vecs)\n",
    "\n",
    "train_vecs_dm = get_vecs(model_dm, X_train, size)\n",
    "train_vecs_dbow = get_vecs(model_dbow, X_train, size)\n",
    "\n",
    "train_vecs_dm.shape, train_vecs_dbow.shape"
   ]
  },
  {
   "cell_type": "code",
   "execution_count": 13,
   "metadata": {},
   "outputs": [
    {
     "data": {
      "text/plain": [
       "(8062, 600)"
      ]
     },
     "execution_count": 13,
     "metadata": {},
     "output_type": "execute_result"
    }
   ],
   "source": [
    "train_vecs = np.hstack((train_vecs_dm, train_vecs_dbow))\n",
    "train_vecs.shape"
   ]
  },
  {
   "cell_type": "code",
   "execution_count": 14,
   "metadata": {},
   "outputs": [
    {
     "data": {
      "text/plain": [
       "(1000, 600)"
      ]
     },
     "execution_count": 14,
     "metadata": {},
     "output_type": "execute_result"
    }
   ],
   "source": [
    "#train over validation set\n",
    "\n",
    "model_dm.train(X_val, total_examples = len(X_val), epochs=10)\n",
    "model_dbow.train(X_val, total_examples = len(X_val), epochs=10)\n",
    "\n",
    "val_vecs_dm = get_vecs(model_dm, X_val, size)\n",
    "val_vecs_dbow = get_vecs(model_dbow, X_val, size)\n",
    "\n",
    "val_vecs = np.hstack((val_vecs_dm, val_vecs_dbow))\n",
    "\n",
    "val_vecs.shape"
   ]
  },
  {
   "cell_type": "code",
   "execution_count": 15,
   "metadata": {
    "scrolled": true
   },
   "outputs": [
    {
     "name": "stdout",
     "output_type": "stream",
     "text": [
      "Iteration 1, loss = 1.22518050\n",
      "Iteration 2, loss = 0.37319826\n",
      "Iteration 3, loss = 0.27855578\n",
      "Iteration 4, loss = 0.22327142\n",
      "Iteration 5, loss = 0.18361786\n",
      "Iteration 6, loss = 0.15515013\n",
      "Iteration 7, loss = 0.13314246\n",
      "Iteration 8, loss = 0.11601008\n",
      "Iteration 9, loss = 0.10290519\n",
      "Iteration 10, loss = 0.09164392\n",
      "Iteration 11, loss = 0.08277791\n",
      "Iteration 12, loss = 0.07563457\n",
      "Iteration 13, loss = 0.06970409\n",
      "Iteration 14, loss = 0.06475951\n",
      "Iteration 15, loss = 0.06048272\n",
      "Iteration 16, loss = 0.05696649\n",
      "Iteration 17, loss = 0.05410765\n",
      "Iteration 18, loss = 0.05164030\n",
      "Iteration 19, loss = 0.04946769\n",
      "Iteration 20, loss = 0.04750373\n",
      "Iteration 21, loss = 0.04623565\n",
      "Iteration 22, loss = 0.04466214\n",
      "Iteration 23, loss = 0.04343734\n",
      "Iteration 24, loss = 0.04264699\n",
      "Iteration 25, loss = 0.04146321\n",
      "Iteration 26, loss = 0.04059277\n",
      "Iteration 27, loss = 0.03992896\n",
      "Iteration 28, loss = 0.03937077\n",
      "Iteration 29, loss = 0.03859615\n",
      "Iteration 30, loss = 0.03818485\n",
      "Iteration 31, loss = 0.03767137\n",
      "Iteration 32, loss = 0.03718587\n",
      "Iteration 33, loss = 0.03673492\n",
      "Iteration 34, loss = 0.03632315\n",
      "Iteration 35, loss = 0.03611905\n",
      "Iteration 36, loss = 0.03571984\n",
      "Iteration 37, loss = 0.03538751\n",
      "Iteration 38, loss = 0.03515905\n",
      "Iteration 39, loss = 0.03480132\n",
      "Iteration 40, loss = 0.03454417\n",
      "Iteration 41, loss = 0.03428560\n",
      "Iteration 42, loss = 0.03409401\n",
      "Iteration 43, loss = 0.03387986\n",
      "Iteration 44, loss = 0.03368729\n",
      "Iteration 45, loss = 0.03345598\n",
      "Iteration 46, loss = 0.03334165\n",
      "Iteration 47, loss = 0.03316727\n",
      "Iteration 48, loss = 0.03289010\n",
      "Iteration 49, loss = 0.03284155\n",
      "Iteration 50, loss = 0.03263162\n",
      "Iteration 51, loss = 0.03253814\n",
      "Iteration 52, loss = 0.03235018\n",
      "Iteration 53, loss = 0.03217472\n",
      "Iteration 54, loss = 0.03215738\n",
      "Iteration 55, loss = 0.03202141\n",
      "Iteration 56, loss = 0.03185176\n",
      "Iteration 57, loss = 0.03175581\n",
      "Iteration 58, loss = 0.03156272\n",
      "Iteration 59, loss = 0.03163599\n",
      "Iteration 60, loss = 0.03134100\n",
      "Iteration 61, loss = 0.03134328\n",
      "Iteration 62, loss = 0.03115698\n",
      "Iteration 63, loss = 0.03108634\n",
      "Iteration 64, loss = 0.03107679\n",
      "Iteration 65, loss = 0.03095252\n",
      "Iteration 66, loss = 0.03084075\n",
      "Iteration 67, loss = 0.03077631\n",
      "Iteration 68, loss = 0.03072509\n",
      "Iteration 69, loss = 0.03058940\n",
      "Iteration 70, loss = 0.03050663\n",
      "Iteration 71, loss = 0.03045444\n",
      "Iteration 72, loss = 0.03049859\n",
      "Iteration 73, loss = 0.03024094\n",
      "Iteration 74, loss = 0.03024459\n",
      "Iteration 75, loss = 0.03032576\n",
      "Iteration 76, loss = 0.03009245\n",
      "Iteration 77, loss = 0.03006289\n",
      "Iteration 78, loss = 0.02992795\n",
      "Iteration 79, loss = 0.03010343\n",
      "Iteration 80, loss = 0.02988973\n",
      "Iteration 81, loss = 0.02974864\n",
      "Iteration 82, loss = 0.02977628\n",
      "Iteration 83, loss = 0.02964993\n",
      "Iteration 84, loss = 0.02957621\n",
      "Iteration 85, loss = 0.02955672\n",
      "Iteration 86, loss = 0.02945420\n",
      "Iteration 87, loss = 0.02940107\n",
      "Iteration 88, loss = 0.02933758\n",
      "Iteration 89, loss = 0.02936539\n",
      "Iteration 90, loss = 0.02932508\n",
      "Iteration 91, loss = 0.02926674\n",
      "Iteration 92, loss = 0.02916022\n",
      "Iteration 93, loss = 0.02915714\n",
      "Iteration 94, loss = 0.02906441\n",
      "Iteration 95, loss = 0.02907142\n",
      "Iteration 96, loss = 0.02897769\n",
      "Iteration 97, loss = 0.02892533\n",
      "Iteration 98, loss = 0.02886478\n",
      "Iteration 99, loss = 0.02886120\n",
      "Iteration 100, loss = 0.02884770\n",
      "Iteration 101, loss = 0.02869735\n",
      "Iteration 102, loss = 0.02874746\n",
      "Iteration 103, loss = 0.02884639\n",
      "Iteration 104, loss = 0.02866051\n",
      "Iteration 105, loss = 0.02862035\n",
      "Iteration 106, loss = 0.02861257\n",
      "Iteration 107, loss = 0.02847484\n",
      "Iteration 108, loss = 0.02844831\n",
      "Iteration 109, loss = 0.02843250\n",
      "Iteration 110, loss = 0.02835072\n",
      "Iteration 111, loss = 0.02834065\n",
      "Iteration 112, loss = 0.02827849\n",
      "Iteration 113, loss = 0.02830885\n",
      "Iteration 114, loss = 0.02820603\n",
      "Iteration 115, loss = 0.02820279\n",
      "Iteration 116, loss = 0.02815433\n",
      "Iteration 117, loss = 0.02812191\n",
      "Iteration 118, loss = 0.02804286\n",
      "Training loss did not improve more than tol=0.000100 for 10 consecutive epochs. Stopping.\n",
      "0.18241819307431173\n",
      "-1.4599494610742414\n"
     ]
    }
   ],
   "source": [
    "regr = MLPRegressor(hidden_layer_sizes=(400, 100, 10), alpha=1e-4, learning_rate_init=0.001, verbose=True, tol=0.0001, solver='sgd', activation=\"relu\")\n",
    "\n",
    "scaler = StandardScaler()\n",
    "scaler.fit(train_vecs)\n",
    "\n",
    "train_vecs = scaler.transform(train_vecs)\n",
    "val_vecs = scaler.transform(val_vecs)\n",
    "\n",
    "pca = PCA(.95)\n",
    "pca.fit(train_vecs)\n",
    "\n",
    "train_vecs = pca.transform(train_vecs)\n",
    "val_vecs = pca.transform(val_vecs)\n",
    "\n",
    "regr.fit(train_vecs, y_train)\n",
    "\n",
    "print(regr.score(train_vecs, y_train))\n",
    "print(regr.score(val_vecs, y_val))"
   ]
  },
  {
   "cell_type": "code",
   "execution_count": 16,
   "metadata": {},
   "outputs": [
    {
     "data": {
      "text/plain": [
       "<matplotlib.axes._subplots.AxesSubplot at 0x7f4a9369ee10>"
      ]
     },
     "execution_count": 16,
     "metadata": {},
     "output_type": "execute_result"
    },
    {
     "data": {
      "image/png": "[encoded data removed]",
      "text/plain": [
       "<Figure size 432x288 with 1 Axes>"
      ]
     },
     "metadata": {
      "needs_background": "light"
     },
     "output_type": "display_data"
    }
   ],
   "source": [
    "pd.DataFrame(regr.loss_curve_).plot()"
   ]
  },
  {
   "cell_type": "code",
   "execution_count": 17,
   "metadata": {},
   "outputs": [
    {
     "name": "stdout",
     "output_type": "stream",
     "text": [
      "[3.3110755] LabeledSentence(['with', 'unemployment', 'at', 'its', 'lowest', 'point', 'in', 'years', 'in', 'central', 'indiana', ',', 'many', 'people', 'still', 'have', 'a', 'hard', 'time', 'finding', 'meaningful', 'employment', '.'], ['DEV_13']) 3.0\n"
     ]
    }
   ],
   "source": [
    "n = 13\n",
    "print(regr.predict([val_vecs[n]]), X_val[n], y_val.iloc[n])"
   ]
  },
  {
   "cell_type": "code",
   "execution_count": 18,
   "metadata": {},
   "outputs": [
    {
     "name": "stdout",
     "output_type": "stream",
     "text": [
      "0.028042856990897102\n",
      "0.15489400799894382\n"
     ]
    }
   ],
   "source": [
    "print(regr.loss_)\n",
    "\n",
    "y_pred = regr.predict(val_vecs)\n",
    "\n",
    "print(metrics.mean_squared_error(y_val, y_pred))"
   ]
  },
  {
   "cell_type": "code",
   "execution_count": 19,
   "metadata": {},
   "outputs": [
    {
     "data": {
      "text/plain": [
       "Text(0, 0.5, 'y pred')"
      ]
     },
     "execution_count": 19,
     "metadata": {},
     "output_type": "execute_result"
    },
    {
     "data": {
      "image/png": "[encoded data removed]",
      "text/plain": [
       "<Figure size 432x288 with 1 Axes>"
      ]
     },
     "metadata": {
      "needs_background": "light"
     },
     "output_type": "display_data"
    }
   ],
   "source": [
    "y_pred = regr.predict(val_vecs)\n",
    "plt.scatter(y_val, y_pred, c=\"orange\", label=\"MLP-regressor\", marker=\".\")\n",
    "plt.xlabel(\"y train\")\n",
    "plt.ylabel(\"y pred\")"
   ]
  },
  {
   "cell_type": "code",
   "execution_count": 20,
   "metadata": {},
   "outputs": [
    {
     "data": {
      "text/plain": [
       "<matplotlib.collections.PathCollection at 0x7f4a8cb87400>"
      ]
     },
     "execution_count": 20,
     "metadata": {},
     "output_type": "execute_result"
    },
    {
     "data": {
      "image/png": "[encoded data removed]",
      "text/plain": [
       "<Figure size 432x288 with 1 Axes>"
      ]
     },
     "metadata": {
      "needs_background": "light"
     },
     "output_type": "display_data"
    }
   ],
   "source": [
    "plt.scatter(y_val, y_val, c=\"orange\", label=\"y_actual_value\", marker=\".\")"
   ]
  },
  {
   "cell_type": "code",
   "execution_count": 21,
   "metadata": {},
   "outputs": [
    {
     "name": "stdout",
     "output_type": "stream",
     "text": [
      "0.04785611483784058\n",
      "0.03124678228542699\n"
     ]
    }
   ],
   "source": [
    "# Linear Regression\n",
    "reg = LinearRegression(normalize=True).fit(train_vecs, y_train)\n",
    "\n",
    "print(reg.score(train_vecs, y_train))\n",
    "print(reg.score(val_vecs, y_val))"
   ]
  },
  {
   "cell_type": "code",
   "execution_count": 22,
   "metadata": {},
   "outputs": [
    {
     "name": "stdout",
     "output_type": "stream",
     "text": [
      "0.3028690145425038\n",
      "-0.04595709430718742\n"
     ]
    }
   ],
   "source": [
    "# SVR\n",
    "svr_reg = make_pipeline(StandardScaler(), SVR(kernel=\"rbf\", C=1.0, epsilon=0.2))\n",
    "svr_reg.fit(train_vecs, y_train)\n",
    "\n",
    "print(svr_reg.score(train_vecs, y_train))\n",
    "print(svr_reg.score(val_vecs, y_val))"
   ]
  },
  {
   "cell_type": "code",
   "execution_count": 23,
   "metadata": {},
   "outputs": [
    {
     "data": {
      "text/plain": [
       "Text(0, 0.5, 'y pred')"
      ]
     },
     "execution_count": 23,
     "metadata": {},
     "output_type": "execute_result"
    },
    {
     "data": {
      "image/png": "[encoded data removed]",
      "text/plain": [
       "<Figure size 432x288 with 1 Axes>"
      ]
     },
     "metadata": {
      "needs_background": "light"
     },
     "output_type": "display_data"
    }
   ],
   "source": [
    "svr_y_pred = svr_reg.predict(val_vecs)\n",
    "plt.scatter(y_val, svr_y_pred, c=\"orange\", label=\"MLP-regressor\", marker=\".\")\n",
    "plt.xlabel(\"y train\")\n",
    "plt.ylabel(\"y pred\")"
   ]
  },
  {
   "cell_type": "code",
   "execution_count": 24,
   "metadata": {},
   "outputs": [
    {
     "name": "stdout",
     "output_type": "stream",
     "text": [
      "0.0658600874106657\n"
     ]
    }
   ],
   "source": [
    "print(metrics.mean_squared_error(y_val, svr_y_pred))"
   ]
  },
  {
   "cell_type": "code",
   "execution_count": 25,
   "metadata": {},
   "outputs": [
    {
     "name": "stdout",
     "output_type": "stream",
     "text": [
      "0.3028690145425038\n",
      "-0.04595709430718742\n"
     ]
    },
    {
     "data": {
      "text/plain": [
       "Text(0, 0.5, 'y pred')"
      ]
     },
     "execution_count": 25,
     "metadata": {},
     "output_type": "execute_result"
    },
    {
     "data": {
      "image/png": "[encoded data removed]",
      "text/plain": [
       "<Figure size 432x288 with 1 Axes>"
      ]
     },
     "metadata": {
      "needs_background": "light"
     },
     "output_type": "display_data"
    }
   ],
   "source": [
    "from sklearn.svm import NuSVR\n",
    "\n",
    "nu_svr_reg = make_pipeline(StandardScaler(), NuSVR(C=1.0, nu=0.1))\n",
    "nu_svr_reg.fit(train_vecs, y_train)\n",
    "\n",
    "print(svr_reg.score(train_vecs, y_train))\n",
    "print(svr_reg.score(val_vecs, y_val))\n",
    "\n",
    "nu_svr_y_pred = svr_reg.predict(val_vecs)\n",
    "plt.scatter(y_val, nu_svr_y_pred, c=\"orange\", label=\"MLP-regressor\", marker=\".\")\n",
    "plt.xlabel(\"y train\")\n",
    "plt.ylabel(\"y pred\")"
   ]
  },
  {
   "cell_type": "code",
   "execution_count": 26,
   "metadata": {},
   "outputs": [
    {
     "name": "stdout",
     "output_type": "stream",
     "text": [
      "0.0658600874106657\n"
     ]
    }
   ],
   "source": [
    "print(metrics.mean_squared_error(y_val, nu_svr_y_pred))"
   ]
  },
  {
   "cell_type": "code",
   "execution_count": null,
   "metadata": {},
   "outputs": [],
   "source": []
  }
 ],
 "metadata": {
  "kernelspec": {
   "display_name": "Python 3",
   "language": "python",
   "name": "python3"
  },
  "language_info": {
   "codemirror_mode": {
    "name": "ipython",
    "version": 3
   },
   "file_extension": ".py",
   "mimetype": "text/x-python",
   "name": "python",
   "nbconvert_exporter": "python",
   "pygments_lexer": "ipython3",
   "version": "3.6.10"
  }
 },
 "nbformat": 4,
 "nbformat_minor": 4
}
