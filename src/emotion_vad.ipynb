{
 "cells": [
  {
   "cell_type": "code",
   "execution_count": 2,
   "metadata": {
    "colab": {
     "base_uri": "https://localhost:8080/",
     "height": 644
    },
    "colab_type": "code",
    "id": "CkM1KK1gjgB8",
    "outputId": "80f5481a-4366-4c50-ef44-160e027896d3"
   },
   "outputs": [
    {
     "name": "stdout",
     "output_type": "stream",
     "text": [
      "Collecting transformers\n",
      "\u001b[?25l  Downloading https://files.pythonhosted.org/packages/48/35/ad2c5b1b8f99feaaf9d7cdadaeef261f098c6e1a6a2935d4d07662a6b780/transformers-2.11.0-py3-none-any.whl (674kB)\n",
      "\u001b[K     |████████████████████████████████| 675kB 3.5MB/s \n",
      "\u001b[?25hRequirement already satisfied: numpy in /usr/local/lib/python3.6/dist-packages (from transformers) (1.18.5)\n",
      "Collecting sacremoses\n",
      "\u001b[?25l  Downloading https://files.pythonhosted.org/packages/7d/34/09d19aff26edcc8eb2a01bed8e98f13a1537005d31e95233fd48216eed10/sacremoses-0.0.43.tar.gz (883kB)\n",
      "\u001b[K     |████████████████████████████████| 890kB 17.9MB/s \n",
      "\u001b[?25hCollecting sentencepiece\n",
      "\u001b[?25l  Downloading https://files.pythonhosted.org/packages/d4/a4/d0a884c4300004a78cca907a6ff9a5e9fe4f090f5d95ab341c53d28cbc58/sentencepiece-0.1.91-cp36-cp36m-manylinux1_x86_64.whl (1.1MB)\n",
      "\u001b[K     |████████████████████████████████| 1.1MB 19.1MB/s \n",
      "\u001b[?25hRequirement already satisfied: regex!=2019.12.17 in /usr/local/lib/python3.6/dist-packages (from transformers) (2019.12.20)\n",
      "Requirement already satisfied: dataclasses; python_version < \"3.7\" in /usr/local/lib/python3.6/dist-packages (from transformers) (0.7)\n",
      "Requirement already satisfied: packaging in /usr/local/lib/python3.6/dist-packages (from transformers) (20.4)\n",
      "Requirement already satisfied: filelock in /usr/local/lib/python3.6/dist-packages (from transformers) (3.0.12)\n",
      "Requirement already satisfied: tqdm>=4.27 in /usr/local/lib/python3.6/dist-packages (from transformers) (4.41.1)\n",
      "Requirement already satisfied: requests in /usr/local/lib/python3.6/dist-packages (from transformers) (2.23.0)\n",
      "Collecting tokenizers==0.7.0\n",
      "\u001b[?25l  Downloading https://files.pythonhosted.org/packages/14/e5/a26eb4716523808bb0a799fcfdceb6ebf77a18169d9591b2f46a9adb87d9/tokenizers-0.7.0-cp36-cp36m-manylinux1_x86_64.whl (3.8MB)\n",
      "\u001b[K     |████████████████████████████████| 3.8MB 32.2MB/s \n",
      "\u001b[?25hRequirement already satisfied: six in /usr/local/lib/python3.6/dist-packages (from sacremoses->transformers) (1.12.0)\n",
      "Requirement already satisfied: click in /usr/local/lib/python3.6/dist-packages (from sacremoses->transformers) (7.1.2)\n",
      "Requirement already satisfied: joblib in /usr/local/lib/python3.6/dist-packages (from sacremoses->transformers) (0.15.1)\n",
      "Requirement already satisfied: pyparsing>=2.0.2 in /usr/local/lib/python3.6/dist-packages (from packaging->transformers) (2.4.7)\n",
      "Requirement already satisfied: certifi>=2017.4.17 in /usr/local/lib/python3.6/dist-packages (from requests->transformers) (2020.4.5.1)\n",
      "Requirement already satisfied: chardet<4,>=3.0.2 in /usr/local/lib/python3.6/dist-packages (from requests->transformers) (3.0.4)\n",
      "Requirement already satisfied: idna<3,>=2.5 in /usr/local/lib/python3.6/dist-packages (from requests->transformers) (2.9)\n",
      "Requirement already satisfied: urllib3!=1.25.0,!=1.25.1,<1.26,>=1.21.1 in /usr/local/lib/python3.6/dist-packages (from requests->transformers) (1.24.3)\n",
      "Building wheels for collected packages: sacremoses\n",
      "  Building wheel for sacremoses (setup.py) ... \u001b[?25l\u001b[?25hdone\n",
      "  Created wheel for sacremoses: filename=sacremoses-0.0.43-cp36-none-any.whl size=893260 sha256=049572d66b88566c9a4ed349221d9cb7bfdee3e8f4b9d19fbedb9ecd244b34e3\n",
      "  Stored in directory: /root/.cache/pip/wheels/29/3c/fd/7ce5c3f0666dab31a50123635e6fb5e19ceb42ce38d4e58f45\n",
      "Successfully built sacremoses\n",
      "Installing collected packages: sacremoses, sentencepiece, tokenizers, transformers\n",
      "Successfully installed sacremoses-0.0.43 sentencepiece-0.1.91 tokenizers-0.7.0 transformers-2.11.0\n"
     ]
    }
   ],
   "source": [
    "!pip install transformers"
   ]
  },
  {
   "cell_type": "code",
   "execution_count": 0,
   "metadata": {
    "colab": {},
    "colab_type": "code",
    "id": "Z_OlEYcqBhMr"
   },
   "outputs": [],
   "source": [
    "import numpy as np\n",
    "import pandas as pd\n",
    "import torch\n",
    "import transformers as ppb # pytorch transformers"
   ]
  },
  {
   "cell_type": "code",
   "execution_count": 0,
   "metadata": {
    "colab": {},
    "colab_type": "code",
    "id": "trjlEmvhCDRp"
   },
   "outputs": [],
   "source": [
    "df = pd.read_csv('https://raw.githubusercontent.com/JULIELab/EmoBank/master/corpus/emobank.csv')"
   ]
  },
  {
   "cell_type": "code",
   "execution_count": 4,
   "metadata": {
    "colab": {
     "base_uri": "https://localhost:8080/",
     "height": 206
    },
    "colab_type": "code",
    "id": "Jm4ySdACCgvK",
    "outputId": "fb9391c8-49e4-4bf3-ae0e-fe3d514d0fb2"
   },
   "outputs": [
    {
     "data": {
      "text/html": [
       "<div>\n",
       "<style scoped>\n",
       "    .dataframe tbody tr th:only-of-type {\n",
       "        vertical-align: middle;\n",
       "    }\n",
       "\n",
       "    .dataframe tbody tr th {\n",
       "        vertical-align: top;\n",
       "    }\n",
       "\n",
       "    .dataframe thead th {\n",
       "        text-align: right;\n",
       "    }\n",
       "</style>\n",
       "<table border=\"1\" class=\"dataframe\">\n",
       "  <thead>\n",
       "    <tr style=\"text-align: right;\">\n",
       "      <th></th>\n",
       "      <th>id</th>\n",
       "      <th>split</th>\n",
       "      <th>V</th>\n",
       "      <th>A</th>\n",
       "      <th>D</th>\n",
       "      <th>text</th>\n",
       "    </tr>\n",
       "  </thead>\n",
       "  <tbody>\n",
       "    <tr>\n",
       "      <th>0</th>\n",
       "      <td>110CYL068_1036_1079</td>\n",
       "      <td>train</td>\n",
       "      <td>3.00</td>\n",
       "      <td>3.00</td>\n",
       "      <td>3.20</td>\n",
       "      <td>Remember what she said in my last letter? \"</td>\n",
       "    </tr>\n",
       "    <tr>\n",
       "      <th>1</th>\n",
       "      <td>110CYL068_1079_1110</td>\n",
       "      <td>test</td>\n",
       "      <td>2.80</td>\n",
       "      <td>3.10</td>\n",
       "      <td>2.80</td>\n",
       "      <td>If I wasn't working here.</td>\n",
       "    </tr>\n",
       "    <tr>\n",
       "      <th>2</th>\n",
       "      <td>110CYL068_1127_1130</td>\n",
       "      <td>train</td>\n",
       "      <td>3.00</td>\n",
       "      <td>3.00</td>\n",
       "      <td>3.00</td>\n",
       "      <td>..\"</td>\n",
       "    </tr>\n",
       "    <tr>\n",
       "      <th>3</th>\n",
       "      <td>110CYL068_1137_1188</td>\n",
       "      <td>train</td>\n",
       "      <td>3.44</td>\n",
       "      <td>3.00</td>\n",
       "      <td>3.22</td>\n",
       "      <td>Goodwill helps people get off of public assist...</td>\n",
       "    </tr>\n",
       "    <tr>\n",
       "      <th>4</th>\n",
       "      <td>110CYL068_1189_1328</td>\n",
       "      <td>train</td>\n",
       "      <td>3.55</td>\n",
       "      <td>3.27</td>\n",
       "      <td>3.46</td>\n",
       "      <td>Sherry learned through our Future Works class ...</td>\n",
       "    </tr>\n",
       "  </tbody>\n",
       "</table>\n",
       "</div>"
      ],
      "text/plain": [
       "                    id  ...                                               text\n",
       "0  110CYL068_1036_1079  ...        Remember what she said in my last letter? \"\n",
       "1  110CYL068_1079_1110  ...                          If I wasn't working here.\n",
       "2  110CYL068_1127_1130  ...                                                ..\"\n",
       "3  110CYL068_1137_1188  ...  Goodwill helps people get off of public assist...\n",
       "4  110CYL068_1189_1328  ...  Sherry learned through our Future Works class ...\n",
       "\n",
       "[5 rows x 6 columns]"
      ]
     },
     "execution_count": 4,
     "metadata": {
      "tags": []
     },
     "output_type": "execute_result"
    }
   ],
   "source": [
    "df.head()"
   ]
  },
  {
   "cell_type": "code",
   "execution_count": 5,
   "metadata": {
    "colab": {
     "base_uri": "https://localhost:8080/",
     "height": 300
    },
    "colab_type": "code",
    "id": "vQl9n4CSC55p",
    "outputId": "be814645-a142-419b-c4b0-dd893405963e"
   },
   "outputs": [
    {
     "data": {
      "text/html": [
       "<div>\n",
       "<style scoped>\n",
       "    .dataframe tbody tr th:only-of-type {\n",
       "        vertical-align: middle;\n",
       "    }\n",
       "\n",
       "    .dataframe tbody tr th {\n",
       "        vertical-align: top;\n",
       "    }\n",
       "\n",
       "    .dataframe thead th {\n",
       "        text-align: right;\n",
       "    }\n",
       "</style>\n",
       "<table border=\"1\" class=\"dataframe\">\n",
       "  <thead>\n",
       "    <tr style=\"text-align: right;\">\n",
       "      <th></th>\n",
       "      <th>V</th>\n",
       "      <th>A</th>\n",
       "      <th>D</th>\n",
       "    </tr>\n",
       "  </thead>\n",
       "  <tbody>\n",
       "    <tr>\n",
       "      <th>count</th>\n",
       "      <td>10062.000000</td>\n",
       "      <td>10062.000000</td>\n",
       "      <td>10062.000000</td>\n",
       "    </tr>\n",
       "    <tr>\n",
       "      <th>mean</th>\n",
       "      <td>2.976690</td>\n",
       "      <td>3.041785</td>\n",
       "      <td>3.062763</td>\n",
       "    </tr>\n",
       "    <tr>\n",
       "      <th>std</th>\n",
       "      <td>0.348715</td>\n",
       "      <td>0.259541</td>\n",
       "      <td>0.209675</td>\n",
       "    </tr>\n",
       "    <tr>\n",
       "      <th>min</th>\n",
       "      <td>1.200000</td>\n",
       "      <td>1.800000</td>\n",
       "      <td>1.780000</td>\n",
       "    </tr>\n",
       "    <tr>\n",
       "      <th>25%</th>\n",
       "      <td>2.800000</td>\n",
       "      <td>2.890000</td>\n",
       "      <td>3.000000</td>\n",
       "    </tr>\n",
       "    <tr>\n",
       "      <th>50%</th>\n",
       "      <td>3.000000</td>\n",
       "      <td>3.000000</td>\n",
       "      <td>3.090000</td>\n",
       "    </tr>\n",
       "    <tr>\n",
       "      <th>75%</th>\n",
       "      <td>3.120000</td>\n",
       "      <td>3.200000</td>\n",
       "      <td>3.200000</td>\n",
       "    </tr>\n",
       "    <tr>\n",
       "      <th>max</th>\n",
       "      <td>4.600000</td>\n",
       "      <td>4.400000</td>\n",
       "      <td>4.200000</td>\n",
       "    </tr>\n",
       "  </tbody>\n",
       "</table>\n",
       "</div>"
      ],
      "text/plain": [
       "                  V             A             D\n",
       "count  10062.000000  10062.000000  10062.000000\n",
       "mean       2.976690      3.041785      3.062763\n",
       "std        0.348715      0.259541      0.209675\n",
       "min        1.200000      1.800000      1.780000\n",
       "25%        2.800000      2.890000      3.000000\n",
       "50%        3.000000      3.000000      3.090000\n",
       "75%        3.120000      3.200000      3.200000\n",
       "max        4.600000      4.400000      4.200000"
      ]
     },
     "execution_count": 5,
     "metadata": {
      "tags": []
     },
     "output_type": "execute_result"
    }
   ],
   "source": [
    "df.describe()"
   ]
  },
  {
   "cell_type": "code",
   "execution_count": 0,
   "metadata": {
    "colab": {},
    "colab_type": "code",
    "id": "guSlpjNrC8cB"
   },
   "outputs": [],
   "source": [
    "model_class, tokenizer_class, pretrained_weights = (ppb.DistilBertModel, ppb.DistilBertTokenizer, 'distilbert-base-uncased')\n",
    "\n",
    "\n",
    "tokenizer = tokenizer_class.from_pretrained(pretrained_weights)\n",
    "model = model_class.from_pretrained(pretrained_weights)"
   ]
  },
  {
   "cell_type": "code",
   "execution_count": 0,
   "metadata": {
    "colab": {},
    "colab_type": "code",
    "id": "bnDEg6TpDO5I"
   },
   "outputs": [],
   "source": [
    "tokenized = df[\"text\"].apply((lambda x: tokenizer.encode(x, add_special_tokens=True)))"
   ]
  },
  {
   "cell_type": "code",
   "execution_count": 8,
   "metadata": {
    "colab": {
     "base_uri": "https://localhost:8080/",
     "height": 124
    },
    "colab_type": "code",
    "id": "kSdPp1FcD0sC",
    "outputId": "04328ee6-adc5-4f5f-bb3c-eb2d0472dd0e"
   },
   "outputs": [
    {
     "data": {
      "text/plain": [
       "0    [101, 3342, 2054, 2016, 2056, 1999, 2026, 2197...\n",
       "1    [101, 2065, 1045, 2347, 1005, 1056, 2551, 2182...\n",
       "2                         [101, 1012, 1012, 1000, 102]\n",
       "3    [101, 22875, 7126, 2111, 2131, 2125, 1997, 227...\n",
       "4    [101, 22268, 4342, 2083, 2256, 2925, 2573, 246...\n",
       "Name: text, dtype: object"
      ]
     },
     "execution_count": 8,
     "metadata": {
      "tags": []
     },
     "output_type": "execute_result"
    }
   ],
   "source": [
    "tokenized.head()"
   ]
  },
  {
   "cell_type": "code",
   "execution_count": 9,
   "metadata": {
    "colab": {
     "base_uri": "https://localhost:8080/",
     "height": 35
    },
    "colab_type": "code",
    "id": "0JVw9-bND3OE",
    "outputId": "3ddae10a-0433-488e-d485-0d6ce24ede68"
   },
   "outputs": [
    {
     "name": "stdout",
     "output_type": "stream",
     "text": [
      "153\n"
     ]
    }
   ],
   "source": [
    "# maxiumum length of the sentence, for padding\n",
    "tokenized_max_len = max([len(x) for x in tokenized])\n",
    "print(tokenized_max_len)"
   ]
  },
  {
   "cell_type": "code",
   "execution_count": 0,
   "metadata": {
    "colab": {},
    "colab_type": "code",
    "id": "Svju101SEc-4"
   },
   "outputs": [],
   "source": [
    "padded = np.array([i + [0]*(tokenized_max_len-len(i)) for i in tokenized.values])"
   ]
  },
  {
   "cell_type": "code",
   "execution_count": 11,
   "metadata": {
    "colab": {
     "base_uri": "https://localhost:8080/",
     "height": 35
    },
    "colab_type": "code",
    "id": "PEeSI77XFaPP",
    "outputId": "d3e6ca0e-e7bd-4eb1-c8b1-c0d5ff897320"
   },
   "outputs": [
    {
     "data": {
      "text/plain": [
       "(10062, 153)"
      ]
     },
     "execution_count": 11,
     "metadata": {
      "tags": []
     },
     "output_type": "execute_result"
    }
   ],
   "source": [
    "np.array(padded).shape"
   ]
  },
  {
   "cell_type": "code",
   "execution_count": 0,
   "metadata": {
    "colab": {},
    "colab_type": "code",
    "id": "Yg_NHqQWFe6v"
   },
   "outputs": [],
   "source": [
    "# Following the tutorial - https://jalammar.github.io/a-visual-guide-to-using-bert-for-the-first-time/\n",
    "# And - https://colab.research.google.com/github/jalammar/jalammar.github.io/blob/master/notebooks/bert/A_Visual_Notebook_to_Using_BERT_for_the_First_Time.ipynb#scrollTo=4K_iGRNa_Ozc "
   ]
  },
  {
   "cell_type": "markdown",
   "metadata": {
    "colab_type": "text",
    "id": "Gki-axMIGcdz"
   },
   "source": [
    "From the tutorial - \n",
    "\n",
    "If we directly send padded to BERT, that would slightly confuse it. We need to create another variable to tell it to ignore (mask) the padding we've added when it's processing its input. That's what attention_mask is:"
   ]
  },
  {
   "cell_type": "code",
   "execution_count": 13,
   "metadata": {
    "colab": {
     "base_uri": "https://localhost:8080/",
     "height": 35
    },
    "colab_type": "code",
    "id": "Ae84mQQEGn0A",
    "outputId": "d55536d7-cc03-4950-eee4-0a75f04b5cc3"
   },
   "outputs": [
    {
     "data": {
      "text/plain": [
       "(10062, 153)"
      ]
     },
     "execution_count": 13,
     "metadata": {
      "tags": []
     },
     "output_type": "execute_result"
    }
   ],
   "source": [
    "attention_mask = np.where((padded != 0), 1, 0)\n",
    "attention_mask.shape"
   ]
  },
  {
   "cell_type": "code",
   "execution_count": 32,
   "metadata": {
    "colab": {
     "base_uri": "https://localhost:8080/",
     "height": 1000
    },
    "colab_type": "code",
    "id": "mg8bsBJxGygx",
    "outputId": "17e64d42-4359-4120-9e37-998b922a88cb"
   },
   "outputs": [
    {
     "name": "stdout",
     "output_type": "stream",
     "text": [
      "Done: 100\n",
      "Done: 200\n",
      "Done: 300\n",
      "Done: 400\n",
      "Done: 500\n",
      "Done: 600\n",
      "Done: 700\n",
      "Done: 800\n",
      "Done: 900\n",
      "Done: 1000\n",
      "Done: 1100\n",
      "Done: 1200\n",
      "Done: 1300\n",
      "Done: 1400\n",
      "Done: 1500\n",
      "Done: 1600\n",
      "Done: 1700\n",
      "Done: 1800\n",
      "Done: 1900\n",
      "Done: 2000\n",
      "Done: 2100\n",
      "Done: 2200\n",
      "Done: 2300\n",
      "Done: 2400\n",
      "Done: 2500\n",
      "Done: 2600\n",
      "Done: 2700\n",
      "Done: 2800\n",
      "Done: 2900\n",
      "Done: 3000\n",
      "Done: 3100\n",
      "Done: 3200\n",
      "Done: 3300\n",
      "Done: 3400\n",
      "Done: 3500\n",
      "Done: 3600\n",
      "Done: 3700\n",
      "Done: 3800\n",
      "Done: 3900\n",
      "Done: 4000\n",
      "Done: 4100\n",
      "Done: 4200\n",
      "Done: 4300\n",
      "Done: 4400\n",
      "Done: 4500\n",
      "Done: 4600\n",
      "Done: 4700\n",
      "Done: 4800\n",
      "Done: 4900\n",
      "Done: 5000\n",
      "Done: 5100\n",
      "Done: 5200\n",
      "Done: 5300\n",
      "Done: 5400\n",
      "Done: 5500\n",
      "Done: 5600\n",
      "Done: 5700\n",
      "Done: 5800\n",
      "Done: 5900\n",
      "Done: 6000\n",
      "Done: 6100\n",
      "Done: 6200\n",
      "Done: 6300\n",
      "Done: 6400\n",
      "Done: 6500\n",
      "Done: 6600\n",
      "Done: 6700\n",
      "Done: 6800\n",
      "Done: 6900\n",
      "Done: 7000\n",
      "Done: 7100\n",
      "Done: 7200\n",
      "Done: 7300\n",
      "Done: 7400\n",
      "Done: 7500\n",
      "Done: 7600\n",
      "Done: 7700\n",
      "Done: 7800\n",
      "Done: 7900\n",
      "Done: 8000\n",
      "Done: 8100\n",
      "Done: 8200\n",
      "Done: 8300\n",
      "Done: 8400\n",
      "Done: 8500\n",
      "Done: 8600\n",
      "Done: 8700\n",
      "Done: 8800\n",
      "Done: 8900\n",
      "Done: 9000\n",
      "Done: 9100\n",
      "Done: 9200\n",
      "Done: 9300\n",
      "Done: 9400\n",
      "Done: 9500\n",
      "Done: 9600\n",
      "Done: 9700\n",
      "Done: 9800\n",
      "Done: 9900\n",
      "Done: 10000\n"
     ]
    }
   ],
   "source": [
    "bert_states = list()\n",
    "\n",
    "before = -1\n",
    "for r in range(100, 10001, 100):\n",
    "  input_ids = torch.tensor(padded[before+1:r])  \n",
    "  attention_mask_updated = torch.tensor(attention_mask[before+1:r])\n",
    "\n",
    "  with torch.no_grad():\n",
    "      last_hidden_states = model(input_ids, attention_mask=attention_mask_updated)\n",
    "      bert_states.append(last_hidden_states)\n",
    "      print(\"Done: {}\".format(r))\n",
    "  before = r"
   ]
  },
  {
   "cell_type": "code",
   "execution_count": 4,
   "metadata": {
    "colab": {
     "base_uri": "https://localhost:8080/",
     "height": 243
    },
    "colab_type": "code",
    "id": "uII2ty0CSeP_",
    "outputId": "2019ab7f-bf87-48d8-df0a-067da8bfc0f1"
   },
   "outputs": [
    {
     "ename": "NameError",
     "evalue": "ignored",
     "output_type": "error",
     "traceback": [
      "\u001b[0;31m---------------------------------------------------------------------------\u001b[0m",
      "\u001b[0;31mNameError\u001b[0m                                 Traceback (most recent call last)",
      "\u001b[0;32m<ipython-input-4-ca4aa4a1b1d0>\u001b[0m in \u001b[0;36m<module>\u001b[0;34m()\u001b[0m\n\u001b[0;32m----> 1\u001b[0;31m \u001b[0mfeatures\u001b[0m \u001b[0;34m=\u001b[0m \u001b[0;34m[\u001b[0m\u001b[0mi\u001b[0m\u001b[0;34m[\u001b[0m\u001b[0;36m0\u001b[0m\u001b[0;34m]\u001b[0m\u001b[0;34m[\u001b[0m\u001b[0;34m:\u001b[0m\u001b[0;34m,\u001b[0m\u001b[0;36m0\u001b[0m\u001b[0;34m,\u001b[0m\u001b[0;34m:\u001b[0m\u001b[0;34m]\u001b[0m\u001b[0;34m.\u001b[0m\u001b[0mnumpy\u001b[0m\u001b[0;34m(\u001b[0m\u001b[0;34m)\u001b[0m \u001b[0;32mfor\u001b[0m \u001b[0mi\u001b[0m \u001b[0;32min\u001b[0m \u001b[0mbert_states\u001b[0m\u001b[0;34m]\u001b[0m\u001b[0;34m\u001b[0m\u001b[0;34m\u001b[0m\u001b[0m\n\u001b[0m\u001b[1;32m      2\u001b[0m \u001b[0mall_features\u001b[0m \u001b[0;34m=\u001b[0m \u001b[0mlist\u001b[0m\u001b[0;34m(\u001b[0m\u001b[0;34m)\u001b[0m\u001b[0;34m\u001b[0m\u001b[0;34m\u001b[0m\u001b[0m\n\u001b[1;32m      3\u001b[0m \u001b[0;32mfor\u001b[0m \u001b[0mi\u001b[0m \u001b[0;32min\u001b[0m \u001b[0mrange\u001b[0m\u001b[0;34m(\u001b[0m\u001b[0;36m100\u001b[0m\u001b[0;34m)\u001b[0m\u001b[0;34m:\u001b[0m\u001b[0;34m\u001b[0m\u001b[0;34m\u001b[0m\u001b[0m\n\u001b[1;32m      4\u001b[0m   \u001b[0;32mfor\u001b[0m \u001b[0mj\u001b[0m \u001b[0;32min\u001b[0m \u001b[0mrange\u001b[0m\u001b[0;34m(\u001b[0m\u001b[0;36m100\u001b[0m\u001b[0;34m)\u001b[0m\u001b[0;34m:\u001b[0m\u001b[0;34m\u001b[0m\u001b[0;34m\u001b[0m\u001b[0m\n\u001b[1;32m      5\u001b[0m     \u001b[0;32mif\u001b[0m \u001b[0mi\u001b[0m \u001b[0;34m>\u001b[0m \u001b[0;36m0\u001b[0m \u001b[0;32mand\u001b[0m \u001b[0mj\u001b[0m\u001b[0;34m==\u001b[0m\u001b[0;36m99\u001b[0m\u001b[0;34m:\u001b[0m\u001b[0;34m\u001b[0m\u001b[0;34m\u001b[0m\u001b[0m\n",
      "\u001b[0;31mNameError\u001b[0m: name 'bert_states' is not defined"
     ]
    }
   ],
   "source": [
    "features = [i[0][:,0,:].numpy() for i in bert_states]"
   ]
  },
  {
   "cell_type": "code",
   "execution_count": 10,
   "metadata": {
    "colab": {
     "base_uri": "https://localhost:8080/",
     "height": 35
    },
    "colab_type": "code",
    "id": "pvh1ClCpCebm",
    "outputId": "98d921ba-657a-4782-8822-308bf026c40d"
   },
   "outputs": [
    {
     "name": "stdout",
     "output_type": "stream",
     "text": [
      "9901\n"
     ]
    }
   ],
   "source": [
    "import pickle\n",
    "with open('bert_states.pkl', 'rb') as f:\n",
    "  features = pickle.load(f)\n",
    "all_features = list()\n",
    "for i in range(100):\n",
    "  for j in range(100):\n",
    "    if i > 0 and j==99:\n",
    "      continue\n",
    "    else:\n",
    "      all_features.append(features[i][j])\n",
    "print(len(all_features))\n",
    "features = all_features"
   ]
  },
  {
   "cell_type": "code",
   "execution_count": 5,
   "metadata": {
    "colab": {
     "base_uri": "https://localhost:8080/",
     "height": 71
    },
    "colab_type": "code",
    "id": "ry2E28B-GO--",
    "outputId": "5614fc31-5411-4311-849f-ffc902f895ed"
   },
   "outputs": [
    {
     "name": "stdout",
     "output_type": "stream",
     "text": [
      "total 31MB\n",
      "-rw-r--r-- 1 root root 31MB Jun 11 17:02 bert_states.pkl\n",
      "drwxr-xr-x 1 root root  1MB May 29 18:19 sample_data\n"
     ]
    }
   ],
   "source": [
    "!ls -l --block-size=MB"
   ]
  },
  {
   "cell_type": "code",
   "execution_count": 0,
   "metadata": {
    "colab": {},
    "colab_type": "code",
    "id": "pdE5IC_lVVvr"
   },
   "outputs": [],
   "source": [
    "from google.colab import files\n",
    "files.download(\"bert_states.pkl\")"
   ]
  },
  {
   "cell_type": "code",
   "execution_count": 0,
   "metadata": {
    "colab": {},
    "colab_type": "code",
    "id": "AFe720SXVkeR"
   },
   "outputs": [],
   "source": [
    "labels = df[\"D\"]"
   ]
  },
  {
   "cell_type": "code",
   "execution_count": 0,
   "metadata": {
    "colab": {},
    "colab_type": "code",
    "id": "4lu57SUVWRD0"
   },
   "outputs": [],
   "source": [
    "from sklearn.model_selection import train_test_split\n",
    "\n",
    "train_features, test_features, train_labels, test_labels = train_test_split(features[:9901], labels[:9901], test_size=0.1)"
   ]
  },
  {
   "cell_type": "code",
   "execution_count": 38,
   "metadata": {
    "colab": {
     "base_uri": "https://localhost:8080/",
     "height": 35
    },
    "colab_type": "code",
    "id": "dA47rK2iWYta",
    "outputId": "1664c162-1007-4979-aaa6-970f61834275"
   },
   "outputs": [
    {
     "name": "stdout",
     "output_type": "stream",
     "text": [
      "0.41528398997594973 -0.08223200270225028 0.15972418604161687 0.22482064428005527\n"
     ]
    }
   ],
   "source": [
    "from sklearn.svm import SVR\n",
    "from sklearn.pipeline import make_pipeline\n",
    "from sklearn.preprocessing import StandardScaler\n",
    "from sklearn import metrics\n",
    "from math import sqrt\n",
    "\n",
    "svr_reg = make_pipeline(StandardScaler(), SVR(C=0.8, epsilon=0.2))\n",
    "svr_reg.fit(train_features, train_labels)\n",
    "\n",
    "train_score = svr_reg.score(train_features, train_labels)\n",
    "val_score = svr_reg.score(test_features, test_labels)\n",
    "\n",
    "svr_y_pred = svr_reg.predict(train_features)\n",
    "train_rmse = sqrt(metrics.mean_squared_error(train_labels, svr_y_pred))\n",
    "\n",
    "svr_y_pred = svr_reg.predict(test_features)\n",
    "val_rmse = sqrt(metrics.mean_squared_error(test_labels, svr_y_pred))\n",
    "\n",
    "print(train_score, val_score, train_rmse, val_rmse)"
   ]
  },
  {
   "cell_type": "code",
   "execution_count": 37,
   "metadata": {
    "colab": {
     "base_uri": "https://localhost:8080/",
     "height": 35
    },
    "colab_type": "code",
    "id": "7hrYMEqcYJ2z",
    "outputId": "af1e3e5c-66e2-4012-8478-99451f36a999"
   },
   "outputs": [
    {
     "name": "stdout",
     "output_type": "stream",
     "text": [
      "991 8910\n"
     ]
    }
   ],
   "source": [
    "print(len(test_features), len(train_features))"
   ]
  },
  {
   "cell_type": "code",
   "execution_count": 40,
   "metadata": {
    "colab": {
     "base_uri": "https://localhost:8080/",
     "height": 35
    },
    "colab_type": "code",
    "id": "AI_auRtOvHEk",
    "outputId": "0e99fb23-def5-4491-87bf-f0518acf51dd"
   },
   "outputs": [
    {
     "data": {
      "text/plain": [
       "(0.6850570491945207, 0.0)"
      ]
     },
     "execution_count": 40,
     "metadata": {
      "tags": []
     },
     "output_type": "execute_result"
    }
   ],
   "source": [
    "from scipy import stats\n",
    "svr_y_pred = svr_reg.predict(train_features)\n",
    "stats.pearsonr(train_labels, svr_y_pred)"
   ]
  },
  {
   "cell_type": "code",
   "execution_count": 0,
   "metadata": {
    "colab": {},
    "colab_type": "code",
    "id": "YHHWntlvx2NL"
   },
   "outputs": [],
   "source": []
  }
 ],
 "metadata": {
  "accelerator": "TPU",
  "colab": {
   "collapsed_sections": [],
   "name": "emotion-vad.ipynb",
   "provenance": []
  },
  "kernelspec": {
   "display_name": "Python 3",
   "language": "python",
   "name": "python3"
  },
  "language_info": {
   "codemirror_mode": {
    "name": "ipython",
    "version": 3
   },
   "file_extension": ".py",
   "mimetype": "text/x-python",
   "name": "python",
   "nbconvert_exporter": "python",
   "pygments_lexer": "ipython3",
   "version": "3.6.10"
  }
 },
 "nbformat": 4,
 "nbformat_minor": 1
}
